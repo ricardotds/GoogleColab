{
  "nbformat": 4,
  "nbformat_minor": 0,
  "metadata": {
    "colab": {
      "name": "Mini_Turing.ipynb",
      "provenance": [],
      "collapsed_sections": [
        "YZegnkb2z7zi",
        "adhJQ3O6Spbr",
        "o0AJ81160Tdc",
        "QrGuOEQgr_4X",
        "KaS9wLeRVIKW",
        "2Bq0xGWjWIT-",
        "aF-EDhJjXCwX",
        "UJvzp4_8X6lD",
        "-ZnfLnX5Yg7y",
        "d7ntPYZaZNcR",
        "XfqgpNUPaUVo",
        "cOukdytra_Lp",
        "REP2TIALb2U6",
        "GTvU7B8rgl6I",
        "kj5gYVZ0jhmu",
        "829v7rn9kQjR",
        "ob6pC1qgkUVI",
        "fMSSazrNlj42",
        "6fHtokC2mm8j",
        "URA21pQRmzxk",
        "YvvPDfNxm6pW",
        "bZjK3e3PnBQT",
        "MUH2OpZ-nIsR",
        "L8XDFqP4nR82",
        "QDgNQ2wxna-F",
        "BS5xUreZoYbR",
        "on4IEUxVrSRX",
        "cVkmQqQ8NQiJ",
        "3A4WPMG7O_h2"
      ],
      "mount_file_id": "1oaFKwIqKgtKmSToySGwtQc7NYtMqh82A",
      "authorship_tag": "ABX9TyNb+khviHu2wbSK3pBf+X61",
      "include_colab_link": true
    },
    "kernelspec": {
      "name": "python3",
      "display_name": "Python 3"
    }
  },
  "cells": [
    {
      "cell_type": "markdown",
      "metadata": {
        "id": "view-in-github",
        "colab_type": "text"
      },
      "source": [
        "<a href=\"https://colab.research.google.com/github/ricardotds/GoogleColab/blob/master/Mini_Turing.ipynb\" target=\"_parent\"><img src=\"https://colab.research.google.com/assets/colab-badge.svg\" alt=\"Open In Colab\"/></a>"
      ]
    },
    {
      "cell_type": "markdown",
      "metadata": {
        "id": "YZegnkb2z7zi",
        "colab_type": "text"
      },
      "source": [
        "# Imports"
      ]
    },
    {
      "cell_type": "code",
      "metadata": {
        "id": "cpRPf0O_y8MX",
        "colab_type": "code",
        "colab": {}
      },
      "source": [
        "import numpy as np\n",
        "from sklearn.utils.validation import check_is_fitted\n",
        "from sklearn.tree import DecisionTreeRegressor, DecisionTreeClassifier\n",
        "from sklearn.model_selection import cross_val_score\n",
        "import pandas as pd\n",
        "import pandas.core.algorithms as algos\n",
        "from pandas import Series\n",
        "from pandas import DataFrame\n",
        "from collections import defaultdict\n",
        "from sklearn import metrics, preprocessing\n",
        "from sklearn.metrics import accuracy_score\n",
        "from sklearn.ensemble import RandomForestClassifier\n",
        "from sklearn.ensemble import GradientBoostingClassifier\n",
        "from sklearn.ensemble import ExtraTreesClassifier\n",
        "from sklearn.model_selection import RandomizedSearchCV\n",
        "from sklearn.model_selection import GridSearchCV\n",
        "from sklearn.model_selection import train_test_split\n",
        "from sklearn.feature_selection import RFE\n",
        "from sklearn.feature_selection import SelectFromModel\n",
        "from sklearn.feature_selection import SelectKBest\n",
        "from sklearn.feature_selection import chi2\n",
        "from sklearn.linear_model import LogisticRegression\n",
        "from sklearn.naive_bayes import GaussianNB \n",
        "from sklearn.neural_network import MLPClassifier\n",
        "from sklearn.svm import LinearSVC\n",
        "import joblib\n",
        "from sklearn.preprocessing import StandardScaler\n",
        "from collections import OrderedDict\n",
        "from statsmodels.stats.outliers_influence import variance_inflation_factor\n",
        "from functools import reduce\n",
        "import matplotlib.pyplot as plt\n",
        "import scipy.stats.stats as stats\n",
        "import re\n",
        "import traceback\n",
        "import seaborn as sns\n",
        "import subprocess\n",
        "import warnings\n",
        "import math\n",
        "import time, sys\n",
        "import string\n",
        "from IPython.display import HTML, display"
      ],
      "execution_count": 0,
      "outputs": []
    },
    {
      "cell_type": "markdown",
      "metadata": {
        "id": "q1eXRIgZ0HAF",
        "colab_type": "text"
      },
      "source": [
        "# Functions"
      ]
    },
    {
      "cell_type": "markdown",
      "metadata": {
        "id": "adhJQ3O6Spbr",
        "colab_type": "text"
      },
      "source": [
        "## Progress Bar"
      ]
    },
    {
      "cell_type": "code",
      "metadata": {
        "id": "LWdD0C-WS0Di",
        "colab_type": "code",
        "colab": {}
      },
      "source": [
        "def update_progress(value, max=100):\n",
        "    return HTML(\"\"\"\n",
        "        <progress\n",
        "            value='{value}'\n",
        "            max='{max}',\n",
        "            style='width: 100%'\n",
        "        >\n",
        "            {value}\n",
        "        </progress>\n",
        "    \"\"\".format(value=value, max=max))\n",
        "# import time\n",
        "# out = display(update_progress(0, 100), display_id=True)\n",
        "# for ii in range(101):\n",
        "#     time.sleep(0.02)\n",
        "#     out.update(update_progress(ii, 100))"
      ],
      "execution_count": 0,
      "outputs": []
    },
    {
      "cell_type": "markdown",
      "metadata": {
        "id": "o0AJ81160Tdc",
        "colab_type": "text"
      },
      "source": [
        "## Variance Infation Factor"
      ]
    },
    {
      "cell_type": "code",
      "metadata": {
        "id": "wKk5iT540KPq",
        "colab_type": "code",
        "colab": {}
      },
      "source": [
        "def calculate_vif(features):\n",
        "  vif = pd.DataFrame()\n",
        "  vif[\"Features\"] = features.columns\n",
        "  vif[\"VIF\"] = [variance_inflation_factor(features.values, i) for i in range(features.shape[1])]    \n",
        "  return(vif)"
      ],
      "execution_count": 0,
      "outputs": []
    },
    {
      "cell_type": "markdown",
      "metadata": {
        "id": "gtWs7_oA0bVz",
        "colab_type": "text"
      },
      "source": [
        "## Binners"
      ]
    },
    {
      "cell_type": "code",
      "metadata": {
        "id": "2cMTSTBY0fcO",
        "colab_type": "code",
        "colab": {}
      },
      "source": [
        "def dt_binner(df,columns):\n",
        "  binner_dict_ = {}\n",
        "  scores_dict_ = {}\n",
        "  chars_dict_ = {}\n",
        "  probas_list_ = {}\n",
        "  chars_list_ = {}\n",
        "  number_of_elements = len(columns)\n",
        "  count = 1\n",
        "  out = display(update_progress(0, 100), display_id=True)\n",
        "  for var in columns:\n",
        "    df_var_miss = df.loc[np.isnan(df[var]) == True, var]\n",
        "    df_var_nomiss = df.loc[np.isnan(df[var]) == False, var]\n",
        "    df_target_miss = df.loc[np.isnan(df[var]) == True, 'target']\n",
        "    df_target_nomiss = df.loc[np.isnan(df[var]) == False, 'target']\n",
        "\n",
        "    tree_model = GridSearchCV(DecisionTreeClassifier(random_state=666),cv=3,scoring='neg_mean_squared_error',param_grid={'max_depth':[1,2,3,4,5],'max_leaf_nodes': [2,4,8,12,15,19]})\n",
        "\n",
        "    x_train, x_test, y_train, y_test = train_test_split(df_var_nomiss,df_target_nomiss, test_size=0.3, random_state=666)\n",
        "\n",
        "    tree_model.fit(x_train.to_frame(),y_train)\n",
        "\n",
        "    binner_dict_[var] = tree_model\n",
        "    scores_dict_[var] = tree_model.score(x_train.to_frame(), y_train)\n",
        "\n",
        "    vars_dis = 'bin_' + var\n",
        "\n",
        "    df_var_nomiss_score = df_var_nomiss.copy()\n",
        "\n",
        "    df_var_nomiss_score_s = pd.DataFrame(binner_dict_[var].predict_proba(df_var_nomiss_score.to_frame())[:,1],index=df_var_nomiss_score.to_frame().index)\n",
        "\n",
        "    df_var_nomiss_score_s.columns = [var]\n",
        "\n",
        "    probas = list(df_var_nomiss_score_s[var].unique())\n",
        "\n",
        "    chars = []\n",
        "    chars_dict_[var] = {}\n",
        "    for i in range(len(probas)):\n",
        "      chars.append(string.ascii_uppercase[i])\n",
        "      chars_dict_[var][probas[i]] = string.ascii_uppercase[i]\n",
        "\n",
        "    chars_list_[var] = chars\n",
        "    probas_list_[var] = probas\n",
        "\n",
        "    df_var_nomiss_score_s[var].replace(probas,chars,inplace=True)\n",
        "\n",
        "    df[vars_dis] = df_var_nomiss_score_s[var]\n",
        "\n",
        "    # X_train['bin']=tree_model.predict_proba(X_train[var].to_frame())[:,1]\n",
        "    # df_tmp = pd.concat([X_train.groupby(['bin'])[var].min(),X_train.groupby(['bin'])[var].max()], axis=1)\n",
        "    # df_tmp.collumns = ['min','max']\n",
        "    # df_tmp['range'] = '(' + str(df_tmp['min']) + '<=x<=' + str(df_tmp['max']) + ')'\n",
        "\n",
        "    \n",
        "    out.update(update_progress((count / number_of_elements)*100, 100))\n",
        "    count = count + 1\n",
        "  out.update(update_progress(100, 100))\n",
        "  return (df, binner_dict_, scores_dict_, chars_dict_, probas_list_, chars_list_)\n"
      ],
      "execution_count": 0,
      "outputs": []
    },
    {
      "cell_type": "code",
      "metadata": {
        "id": "9nBNSaSxV6qm",
        "colab_type": "code",
        "colab": {}
      },
      "source": [
        "def apply_binner(df,vars_binner,model_dict,chars_dict,probas_dict):\n",
        "  number_of_elements = len(vars_binner)\n",
        "  count = 1\n",
        "  out = display(update_progress(0, 100), display_id=True)\n",
        "  for var in vars_binner:\n",
        "    df_var_miss = df.loc[np.isnan(df[var]) == True, var]\n",
        "    df_var_nomiss = df.loc[np.isnan(df[var]) == False, var]\n",
        "\n",
        "    tree_model = model_dict[var]\n",
        "    probas = probas_dict[var]\n",
        "    chars = chars_dict[var]\n",
        "\n",
        "    if df_var_nomiss.shape[0] > 0:\n",
        "      df_var_nomiss_score = df_var_nomiss.copy()\n",
        "      df_var_nomiss_score_s = pd.DataFrame(tree_model.predict_proba(df_var_nomiss_score.to_frame())[:,1],index=df_var_nomiss_score.to_frame().index)\n",
        "      df_var_nomiss_score_s.columns = [var]\n",
        "      df_var_nomiss_score_s[var].replace(probas,chars,inplace=True)\n",
        "      df['bin_'+var] = df_var_nomiss_score_s[var]\n",
        "    else:\n",
        "      df['bin_'+var] = 'NA'\n",
        "\n",
        "\n",
        "    out.update(update_progress((count / number_of_elements)*100, 100))\n",
        "    count = count + 1\n",
        "  out.update(update_progress(100, 100))\n",
        "  \n",
        "  return df\n"
      ],
      "execution_count": 0,
      "outputs": []
    },
    {
      "cell_type": "code",
      "metadata": {
        "id": "Pmg7VBXGVzta",
        "colab_type": "code",
        "colab": {}
      },
      "source": [
        "def mono_bin(Y, X, n):\n",
        "  df1 = pd.DataFrame({\"X\": X, \"Y\": Y})\n",
        "  justmiss = df1[['X','Y']][df1.X.isnull()]\n",
        "  notmiss = df1[['X','Y']][df1.X.notnull()]\n",
        "  r = 0\n",
        "  while np.abs(r) < 1:\n",
        "      try:\n",
        "          d1 = pd.DataFrame({\"X\": notmiss.X, \"Y\": notmiss.Y, \"Bucket\": pd.qcut(notmiss.X, n)})\n",
        "          d2 = d1.groupby('Bucket', as_index=True)\n",
        "          r, p = stats.spearmanr(d2.mean().X, d2.mean().Y)\n",
        "          n = n - 1 \n",
        "      except:\n",
        "          n = n - 1\n",
        "\n",
        "  if len(d2) == 1:\n",
        "      n = force_bin         \n",
        "      bins = algos.quantile(notmiss.X, np.linspace(0, 1, n))\n",
        "      if len(np.unique(bins)) == 2:\n",
        "          bins = np.insert(bins, 0, 1)\n",
        "          bins[1] = bins[1]-(bins[1]/2)\n",
        "      d1 = pd.DataFrame({\"X\": notmiss.X, \"Y\": notmiss.Y, \"Bucket\": pd.cut(notmiss.X, np.unique(bins),include_lowest=True)}) \n",
        "      d2 = d1.groupby('Bucket', as_index=True)\n",
        "  \n",
        "  d3 = pd.DataFrame({},index=[])\n",
        "  d3[\"MIN_VALUE\"] = d2.min().X\n",
        "  d3[\"MAX_VALUE\"] = d2.max().X\n",
        "  d3[\"COUNT\"] = d2.count().Y\n",
        "  d3[\"EVENT\"] = d2.sum().Y\n",
        "  d3[\"NONEVENT\"] = d2.count().Y - d2.sum().Y\n",
        "  d3=d3.reset_index(drop=True)\n",
        "  \n",
        "  if len(justmiss.index) > 0:\n",
        "      d4 = pd.DataFrame({'MIN_VALUE':np.nan},index=[0])\n",
        "      d4[\"MAX_VALUE\"] = np.nan\n",
        "      d4[\"COUNT\"] = justmiss.count().Y\n",
        "      d4[\"EVENT\"] = justmiss.sum().Y\n",
        "      d4[\"NONEVENT\"] = justmiss.count().Y - justmiss.sum().Y\n",
        "      d3 = d3.append(d4,ignore_index=True)\n",
        "  \n",
        "  d3[\"EVENT_RATE\"] = d3.EVENT/d3.COUNT\n",
        "  d3[\"NON_EVENT_RATE\"] = d3.NONEVENT/d3.COUNT\n",
        "  d3[\"DIST_EVENT\"] = d3.EVENT/d3.sum().EVENT\n",
        "  d3[\"DIST_NON_EVENT\"] = d3.NONEVENT/d3.sum().NONEVENT\n",
        "  d3[\"WOE\"] = np.log(d3.DIST_EVENT/d3.DIST_NON_EVENT)\n",
        "  d3[\"IV\"] = (d3.DIST_EVENT-d3.DIST_NON_EVENT)*np.log(d3.DIST_EVENT/d3.DIST_NON_EVENT)\n",
        "  d3[\"VAR_NAME\"] = \"VAR\"\n",
        "  d3 = d3[['VAR_NAME','MIN_VALUE', 'MAX_VALUE', 'COUNT', 'EVENT', 'EVENT_RATE', 'NONEVENT', 'NON_EVENT_RATE', 'DIST_EVENT','DIST_NON_EVENT','WOE', 'IV']]       \n",
        "  d3 = d3.replace([np.inf, -np.inf], 0)\n",
        "  d3.IV = d3.IV.sum()\n",
        "  \n",
        "  return(d3)\n",
        "\n"
      ],
      "execution_count": 0,
      "outputs": []
    },
    {
      "cell_type": "code",
      "metadata": {
        "id": "otT-8J6XV2aS",
        "colab_type": "code",
        "colab": {}
      },
      "source": [
        "def char_bin(Y, X):    \n",
        "  df1 = pd.DataFrame({\"X\": X, \"Y\": Y})\n",
        "  justmiss = df1[['X','Y']][df1.X.isnull()]\n",
        "  notmiss = df1[['X','Y']][df1.X.notnull()]    \n",
        "  df2 = notmiss.groupby('X',as_index=True)\n",
        "  \n",
        "  d3 = pd.DataFrame({},index=[])\n",
        "  d3[\"COUNT\"] = df2.count().Y\n",
        "  d3[\"MIN_VALUE\"] = df2.sum().Y.index\n",
        "  d3[\"MAX_VALUE\"] = d3[\"MIN_VALUE\"]\n",
        "  d3[\"EVENT\"] = df2.sum().Y\n",
        "  d3[\"NONEVENT\"] = df2.count().Y - df2.sum().Y\n",
        "  \n",
        "  if len(justmiss.index) > 0:\n",
        "      d4 = pd.DataFrame({'MIN_VALUE':np.nan},index=[0])\n",
        "      d4[\"MAX_VALUE\"] = np.nan\n",
        "      d4[\"COUNT\"] = justmiss.count().Y\n",
        "      d4[\"EVENT\"] = justmiss.sum().Y\n",
        "      d4[\"NONEVENT\"] = justmiss.count().Y - justmiss.sum().Y\n",
        "      d3 = d3.append(d4,ignore_index=True)\n",
        "  \n",
        "  d3[\"EVENT_RATE\"] = d3.EVENT/d3.COUNT\n",
        "  d3[\"NON_EVENT_RATE\"] = d3.NONEVENT/d3.COUNT\n",
        "  d3[\"DIST_EVENT\"] = d3.EVENT/d3.sum().EVENT\n",
        "  d3[\"DIST_NON_EVENT\"] = d3.NONEVENT/d3.sum().NONEVENT\n",
        "  d3[\"WOE\"] = np.log(d3.DIST_EVENT/d3.DIST_NON_EVENT)\n",
        "  d3[\"IV\"] = (d3.DIST_EVENT-d3.DIST_NON_EVENT)*np.log(d3.DIST_EVENT/d3.DIST_NON_EVENT)\n",
        "  d3[\"VAR_NAME\"] = \"VAR\"\n",
        "  d3 = d3[['VAR_NAME','MIN_VALUE', 'MAX_VALUE', 'COUNT', 'EVENT', 'EVENT_RATE', 'NONEVENT', 'NON_EVENT_RATE', 'DIST_EVENT','DIST_NON_EVENT','WOE', 'IV']]      \n",
        "  d3 = d3.replace([np.inf, -np.inf], 0)\n",
        "  d3.IV = d3.IV.sum()\n",
        "  d3 = d3.reset_index(drop=True)\n",
        "  \n",
        "  return(d3)\n",
        "\n"
      ],
      "execution_count": 0,
      "outputs": []
    },
    {
      "cell_type": "code",
      "metadata": {
        "id": "vID9kDX7V4hs",
        "colab_type": "code",
        "colab": {}
      },
      "source": [
        "def data_vars(df1, target, n):\n",
        "  stack = traceback.extract_stack()\n",
        "  filename, lineno, function_name, code = stack[-2]\n",
        "  vars_name = re.compile(r'\\((.*?)\\).*$').search(code).groups()[0]\n",
        "  final = (re.findall(r\"[\\w']+\", vars_name))[-1]\n",
        "  \n",
        "  x = df1.dtypes.index\n",
        "  count = -1\n",
        "  number_of_elements = len(df.columns)\n",
        "  ct = 1\n",
        "  out = display(update_progress(0, 100), display_id=True)\n",
        "  \n",
        "  for i in x:\n",
        "      if i.upper() not in (final.upper()):\n",
        "          if np.issubdtype(df1[i], np.number) and len(Series.unique(df1[i])) > 2:\n",
        "              conv = mono_bin(target, df1[i],n)\n",
        "              conv[\"VAR_NAME\"] = i\n",
        "              count = count + 1\n",
        "          else:\n",
        "              conv = char_bin(target, df1[i])\n",
        "              conv[\"VAR_NAME\"] = i            \n",
        "              count = count + 1\n",
        "              \n",
        "          if count == 0:\n",
        "              iv_df = conv\n",
        "          else:\n",
        "              iv_df = iv_df.append(conv,ignore_index=True)\n",
        "      out.update(update_progress((ct / number_of_elements)*100, 100))\n",
        "      ct = ct + 1\n",
        "  out.update(update_progress(100, 100))\n",
        "  iv = pd.DataFrame({'IV':iv_df.groupby('VAR_NAME').IV.max()})\n",
        "  iv = iv.reset_index()\n",
        "  return(iv_df,iv)"
      ],
      "execution_count": 0,
      "outputs": []
    },
    {
      "cell_type": "markdown",
      "metadata": {
        "id": "QrGuOEQgr_4X",
        "colab_type": "text"
      },
      "source": [
        "## Models"
      ]
    },
    {
      "cell_type": "code",
      "metadata": {
        "id": "wYufofc9sE6y",
        "colab_type": "code",
        "colab": {}
      },
      "source": [
        "def runModel(modelType,features_train,label_train,features_test,label_test):\n",
        "    \n",
        "    def runClf(): \n",
        "        clf.fit(features_train,label_train)\n",
        "        \n",
        "        pred_train = clf.predict(features_train)\n",
        "        pred_test = clf.predict(features_test)\n",
        "        \n",
        "        \n",
        "        accuracy_train = accuracy_score(pred_train,label_train)\n",
        "        accuracy_test = accuracy_score(pred_test,label_test)\n",
        "        \n",
        "        fpr, tpr, _ = metrics.roc_curve(np.array(label_train), clf.predict_proba(features_train)[:,1])\n",
        "        auc_train = metrics.auc(fpr,tpr)\n",
        "        \n",
        "        fpr, tpr, _ = metrics.roc_curve(np.array(label_test), clf.predict_proba(features_test)[:,1])\n",
        "        auc_test = metrics.auc(fpr,tpr)\n",
        "        \n",
        "        print('accuracy_train: {}\\naccuracy_test: {}\\nauc_train: {}\\nauc_test: {}'.format(accuracy_train,accuracy_test,auc_train,auc_test))\n",
        "        print('\\n\\n\\nAssertivity - Train\\n')\n",
        "        print(pd.crosstab(label_train,pd.Series(pred_train),rownames=['ACTUAL'],colnames=['PRED']))\n",
        "        print('\\n\\n\\nAssertivity - Test\\n')\n",
        "        print(pd.crosstab(label_test,pd.Series(pred_test),rownames=['ACTUAL'],colnames=['PRED']))\n",
        "        \n",
        "        scores_train = scoring(features_train,clf,label_train)\n",
        "        scores_test = scoring(features_test,clf,label_test)\n",
        "        lift_train = pd.concat([features_train,scores_train],axis=1)\n",
        "        lift_test = pd.concat([features_test,scores_test],axis=1)\n",
        "        \n",
        "        return clf, scores_train, scores_test, lift_train, lift_test\n",
        "    \n",
        "    if modelType == 'RF':\n",
        "        print('Random Forest Classifier - n_estimators: {}'.format(nEstimatorsRF))\n",
        "        clf = RandomForestClassifier(n_estimators=nEstimatorsRF)\n",
        "        return runClf()\n",
        "    elif modelType == 'LR':\n",
        "        print('Logistic Regression')\n",
        "        clf = LogisticRegression(solver='lbfgs')   \n",
        "        return runClf()\n",
        "    elif modelType == 'NN':\n",
        "        print('Neural Network')\n",
        "        clf = MLPClassifier()\n",
        "        return runClf()\n",
        "    elif modelType == 'NB':\n",
        "        print('Naive Bayes')\n",
        "        clf = GaussianNB()\n",
        "        return runClf()\n",
        "    elif modelType == 'GB':\n",
        "        print('Gradient Boost')    \n",
        "        clf = GradientBoostingClassifier()\n",
        "        return runClf()\n",
        "    elif modelType == 'RFHP':\n",
        "        print('Random Forest - Hyper Parameter Tuning')\n",
        "        n_estimators = [int(x) for x in np.linspace(start = 10, stop = 500, num = 10)]\n",
        "        max_features = ['auto', 'sqrt']\n",
        "        max_depth = [int(x) for x in np.linspace(3, 10, num = 1)]\n",
        "        max_depth.append(None)\n",
        "        min_samples_split = [2, 5, 10]\n",
        "        min_samples_leaf = [1, 2, 4]\n",
        "        bootstrap = [True, False]\n",
        "        \n",
        "        random_grid = {'n_estimators': n_estimators,\n",
        "                       'max_features': max_features,\n",
        "                       'max_depth': max_depth,\n",
        "                       'min_samples_split': min_samples_split,\n",
        "                       'min_samples_leaf': min_samples_leaf,\n",
        "                       'bootstrap': bootstrap}\n",
        "        \n",
        "        rf = RandomForestClassifier()\n",
        "        \n",
        "        rf_random = RandomizedSearchCV(estimator = rf, param_distributions = random_grid, n_iter = 10, cv = 2, verbose=2, random_state=42, n_jobs = -1)\n",
        "        rf_random.fit(features_train, label_train)\n",
        "        \n",
        "        print(rf_random.best_params_)\n",
        "        clf = RandomForestClassifier(**rf_random.best_params_)\n",
        "        return runClf()\n",
        "    elif modelType == 'GBHP':\n",
        "        print('Gradient Boost - Hyper Parameter Tuning')\n",
        "        n_estimators = [int(x) for x in np.linspace(start = 10, stop = 500, num = 10)]\n",
        "        max_features = ['auto', 'sqrt']\n",
        "        max_depth = [int(x) for x in np.linspace(3, 10, num = 1)]\n",
        "        max_depth.append(None)\n",
        "        min_samples_split = [2, 5, 10]\n",
        "        min_samples_leaf = [1, 2, 4]\n",
        "        \n",
        "        grid = {'n_estimators': n_estimators,\n",
        "               'max_features': max_features,\n",
        "               'max_depth': max_depth,\n",
        "               'min_samples_split': min_samples_split,\n",
        "               'min_samples_leaf': min_samples_leaf}\n",
        "        \n",
        "        gb = GradientBoostingClassifier()\n",
        "        \n",
        "        gf_tune = GridSearchCV(estimator = gb, param_grid = grid, cv = 2, verbose=2, n_jobs = -1)\n",
        "        gf_tune.fit(features_train, label_train)\n",
        "        \n",
        "        print(gf_tune.best_params_)\n",
        "        clf = GradientBoostingClassifier(**gf_tune.best_params_)\n",
        "        return runClf()"
      ],
      "execution_count": 0,
      "outputs": []
    },
    {
      "cell_type": "code",
      "metadata": {
        "id": "sRW8_2RSttZr",
        "colab_type": "code",
        "colab": {}
      },
      "source": [
        "def modelSelection(df1,vif):\n",
        "    print('\\n\\n\\n################################################################')\n",
        "    print('Spliting the dataframe into train and test - test_size: {}'.format(testSize))\n",
        "    train, test = train_test_split(df1, test_size = testSize)\n",
        "    train = train.reset_index(drop=True)\n",
        "    test = test.reset_index(drop=True)\n",
        "    \n",
        "    fTrain = train[list(vif['Features'])]\n",
        "    lTrain = train['target']\n",
        "    fTest = test[list(vif['Features'])]\n",
        "    lTest = test['target']\n",
        "    \n",
        "    clfRF, scores_train, scores_test, lift_train, lift_test = runModel('RF',fTrain,lTrain,fTest,lTest) #RandomForest\n",
        "    #printCharts(scores_train,scores_test,lift_train,lift_test)\n",
        "    \n",
        "    clfLR, scores_train, scores_test, lift_train, lift_test = runModel('LR',fTrain,lTrain,fTest,lTest) #LogisticRegression\n",
        "    #printCharts(scores_train,scores_test,lift_train,lift_test)\n",
        "    \n",
        "    clfNN, scores_train, scores_test, lift_train, lift_test = runModel('NN',fTrain,lTrain,fTest,lTest) #NeuralNetwork\n",
        "    #printCharts(scores_train,scores_test,lift_train,lift_test)\n",
        "    \n",
        "    clfNB, scores_train, scores_test, lift_train, lift_test = runModel('NB',fTrain,lTrain,fTest,lTest) #NaiveBayes\n",
        "    #printCharts(scores_train,scores_test,lift_train,lift_test)\n",
        "    \n",
        "    clfGB, scores_train, scores_test, lift_train, lift_test = runModel('GB',fTrain,lTrain,fTest,lTest) #GradientBoost\n",
        "    #printCharts(scores_train,scores_test,lift_train,lift_test)\n",
        "    \n",
        "    clfRFHP, scores_train, scores_test, lift_train, lift_test = runModel('RFHP',fTrain,lTrain,fTest,lTest) #RandomForestHyperParameter\n",
        "    #printCharts(scores_train,scores_test,lift_train,lift_test)\n",
        "    \n",
        "    clfGBHP, scores_train, scores_test, lift_train, lift_test = runModel('GBHP',fTrain,lTrain,fTest,lTest) #GradientBoostHyperParameter\n",
        "    #printCharts(scores_train,scores_test,lift_train,lift_test)\n",
        "    \n",
        "    return clfRF, clfLR, clfNN, clfNB, clfGB, clfRFHP, clfGBHP"
      ],
      "execution_count": 0,
      "outputs": []
    },
    {
      "cell_type": "markdown",
      "metadata": {
        "id": "KaS9wLeRVIKW",
        "colab_type": "text"
      },
      "source": [
        "## Plots"
      ]
    },
    {
      "cell_type": "code",
      "metadata": {
        "id": "Uy6S7ouIJxwy",
        "colab_type": "code",
        "colab": {}
      },
      "source": [
        "def printCharts(scores_train,scores_test,lift_train,lift_test):\n",
        "    print(deciling(scores_train,['DECILE'],'TARGET','NONTARGET'))\n",
        "    print(deciling(scores_test,['DECILE'],'TARGET','NONTARGET'))\n",
        "    print(gains(lift_train,['DECILE'],'TARGET','SCORE'))\n",
        "    print(gains(lift_test,['DECILE'],'TARGET','SCORE'))"
      ],
      "execution_count": 0,
      "outputs": []
    },
    {
      "cell_type": "code",
      "metadata": {
        "id": "PN76UvBLVJcU",
        "colab_type": "code",
        "colab": {}
      },
      "source": [
        "def plot_pandas_style(styler):\n",
        "  from IPython.core.display import HTML\n",
        "  html = '\\n'.join([line.lstrip() for line in styler.render().split('\\n')])\n",
        "  return HTML(html)\n",
        "\n"
      ],
      "execution_count": 0,
      "outputs": []
    },
    {
      "cell_type": "code",
      "metadata": {
        "id": "HA1PpFpnV8T2",
        "colab_type": "code",
        "colab": {}
      },
      "source": [
        "def highlight_max(s,color='yellow'):\n",
        "  '''\n",
        "  highlight the maximum in a Series yellow.\n",
        "  '''\n",
        "  is_max = s == s.max()\n",
        "  return ['background-color: {}'.format(color) if v else '' for v in is_max]\n",
        "\n"
      ],
      "execution_count": 0,
      "outputs": []
    },
    {
      "cell_type": "code",
      "metadata": {
        "id": "PDgIjv0sV-cF",
        "colab_type": "code",
        "colab": {}
      },
      "source": [
        "def decile_labels(agg1,label,color='skyblue'):\n",
        "  agg_dummy = pd.DataFrame(OrderedDict((('TOTAL',0),('TARGET',0),('NONTARGET',0),('PCT_TAR',0),('CUM_TAR',0),('CUM_NONTAR',0),('DIST_TAR',0),('DIST_NONTAR',0),('SPREAD',0))),index=[0])\n",
        "  agg1 = agg1.append(agg_dummy).sort_index()\n",
        "  agg1.index.name = label\n",
        "  agg1 = agg1.style.apply(highlight_max, color = 'yellow', subset=['SPREAD'])\n",
        "  agg1.bar(subset=['TARGET'], color='{}'.format(color))\n",
        "  agg1.bar(subset=['TOTAL'], color='{}'.format(color))\n",
        "  agg1.bar(subset=['PCT_TAR'], color='{}'.format(color))\n",
        "  return(agg1)\n",
        "\n"
      ],
      "execution_count": 0,
      "outputs": []
    },
    {
      "cell_type": "code",
      "metadata": {
        "id": "CXlxwWzXWAeq",
        "colab_type": "code",
        "colab": {}
      },
      "source": [
        "def deciling(data,decile_by,target,nontarget):\n",
        "  inputs = list(decile_by)\n",
        "  inputs.extend((target,nontarget))\n",
        "  decile = data[inputs]\n",
        "  grouped = decile.groupby(decile_by)\n",
        "  agg1 = pd.DataFrame({},index=[])\n",
        "  agg1['TOTAL'] = grouped.sum()[nontarget] + grouped.sum()[target]\n",
        "  agg1['TARGET'] = grouped.sum()[target]\n",
        "  agg1['NONTARGET'] = grouped.sum()[nontarget]\n",
        "  agg1['PCT_TAR'] = grouped.mean()[target]*100\n",
        "  agg1['CUM_TAR'] = grouped.sum()[target].cumsum()\n",
        "  agg1['CUM_NONTAR'] = grouped.sum()[nontarget].cumsum()\n",
        "  agg1['DIST_TAR'] = agg1['CUM_TAR']/agg1['TARGET'].sum()*100\n",
        "  agg1['DIST_NONTAR'] = agg1['CUM_NONTAR']/agg1['NONTARGET'].sum()*100\n",
        "  agg1['SPREAD'] = (agg1['DIST_TAR'] - agg1['DIST_NONTAR'])\n",
        "  agg1 = decile_labels(agg1,'DECILE',color='skyblue')\n",
        "  return(plot_pandas_style(agg1))\n",
        "    \n"
      ],
      "execution_count": 0,
      "outputs": []
    },
    {
      "cell_type": "code",
      "metadata": {
        "id": "ShXa0TOOWCgU",
        "colab_type": "code",
        "colab": {}
      },
      "source": [
        "def scoring(features,clf,target):\n",
        "  score = pd.DataFrame(clf.predict_proba(features)[:,1], columns = ['SCORE'])\n",
        "  score['DECILE'] = pd.qcut(score['SCORE'].rank(method = 'first'),10,labels=range(10,0,-1))\n",
        "  score['DECILE'] = score['DECILE'].astype(float)\n",
        "  score['TARGET'] = target\n",
        "  score['NONTARGET'] = 1 - target\n",
        "  return(score)\n",
        "    \n"
      ],
      "execution_count": 0,
      "outputs": []
    },
    {
      "cell_type": "code",
      "metadata": {
        "id": "0Eg693YIWEqv",
        "colab_type": "code",
        "colab": {}
      },
      "source": [
        "def plots(agg1,target,type):\n",
        "\n",
        "  plt.figure(1,figsize=(20, 5))\n",
        "\n",
        "  plt.subplot(131)\n",
        "  plt.plot(agg1['DECILE'],agg1['ACTUAL'],label='Actual')\n",
        "  plt.plot(agg1['DECILE'],agg1['PRED'],label='Pred')\n",
        "  plt.xticks(range(10,110,10))\n",
        "  plt.legend(fontsize=15)\n",
        "  plt.grid(True)\n",
        "  plt.title('Actual vs Predicted', fontsize=20)\n",
        "  plt.xlabel(\"Population %\",fontsize=15)\n",
        "  plt.ylabel(str(target) + \" \" + str(type) + \" %\",fontsize=15)\n",
        "\n",
        "  plt.subplot(132)\n",
        "  X = agg1['DECILE'].tolist()\n",
        "  X.append(0)\n",
        "  Y = agg1['DIST_TAR'].tolist()\n",
        "  Y.append(0)\n",
        "  plt.plot(sorted(X),sorted(Y))\n",
        "  plt.plot([0, 100], [0, 100],'r--')\n",
        "  plt.xticks(range(0,110,10))\n",
        "  plt.yticks(range(0,110,10))\n",
        "  plt.grid(True)\n",
        "  plt.title('Gains Chart', fontsize=20)\n",
        "  plt.xlabel(\"Population %\",fontsize=15)\n",
        "  plt.ylabel(str(target) + str(\" DISTRIBUTION\") + \" %\",fontsize=15)\n",
        "  plt.annotate(round(agg1[agg1['DECILE'] == 30].DIST_TAR.item(),2),xy=[30,30], \n",
        "          xytext=(25, agg1[agg1['DECILE'] == 30].DIST_TAR.item() + 5),fontsize = 13)\n",
        "  plt.annotate(round(agg1[agg1['DECILE'] == 50].DIST_TAR.item(),2),xy=[50,50], \n",
        "          xytext=(45, agg1[agg1['DECILE'] == 50].DIST_TAR.item() + 5),fontsize = 13)\n",
        "\n",
        "  plt.subplot(133)\n",
        "  plt.plot(agg1['DECILE'],agg1['LIFT'])\n",
        "  plt.xticks(range(10,110,10))\n",
        "  plt.grid(True)\n",
        "  plt.title('Lift Chart', fontsize=20)\n",
        "  plt.xlabel(\"Population %\",fontsize=15)\n",
        "  plt.ylabel(\"Lift\",fontsize=15)\n",
        "\n",
        "  plt.tight_layout()\n",
        "\n",
        "\n",
        "\n"
      ],
      "execution_count": 0,
      "outputs": []
    },
    {
      "cell_type": "code",
      "metadata": {
        "id": "BoD5oWqbWGrR",
        "colab_type": "code",
        "colab": {}
      },
      "source": [
        "def gains(data,decile_by,target,score):\n",
        "  inputs = list(decile_by)\n",
        "  inputs.extend((target,score))\n",
        "  decile = data[inputs]\n",
        "  grouped = decile.groupby(decile_by)\n",
        "  agg1 = pd.DataFrame({},index=[])\n",
        "  agg1['ACTUAL'] = grouped.mean()[target]*100\n",
        "  agg1['PRED'] = grouped.mean()[score]*100\n",
        "  agg1['DIST_TAR'] = grouped.sum()[target].cumsum()/grouped.sum()[target].sum()*100\n",
        "  agg1.index.name = 'DECILE'\n",
        "  agg1 = agg1.reset_index()\n",
        "  agg1['DECILE'] = agg1['DECILE']*10\n",
        "  agg1['LIFT'] = agg1['DIST_TAR']/agg1['DECILE']\n",
        "  plots(agg1,target,'Distribution')"
      ],
      "execution_count": 0,
      "outputs": []
    },
    {
      "cell_type": "markdown",
      "metadata": {
        "id": "2Bq0xGWjWIT-",
        "colab_type": "text"
      },
      "source": [
        "## Metadata"
      ]
    },
    {
      "cell_type": "code",
      "metadata": {
        "id": "B-L8jmZZWLWd",
        "colab_type": "code",
        "colab": {}
      },
      "source": [
        "def ajusteMetadados(dataframe): \n",
        "  train = dataframe\n",
        "  # Verifica os tipos de variáveis presentes na tabela de treino\n",
        "  t = []\n",
        "  for i in train.columns:\n",
        "          t.append(train[i].dtype)\n",
        "\n",
        "  n = []\n",
        "  for i in train.columns:\n",
        "          n.append(i)\n",
        "\n",
        "  aux_t = pd.DataFrame(data=t,columns=[\"Types\"])\n",
        "  aux_n = pd.DataFrame(data=n,columns=[\"Features\"])\n",
        "  df_tipovars = pd.concat([aux_n, aux_t], axis=1, join_axes=[aux_n.index])\n",
        "  data = []\n",
        "  for f in train.columns:\n",
        "\n",
        "      # Definindo o papel das variáveis:\n",
        "      if f == 'target':\n",
        "          role = 'target'\n",
        "      elif f == 'id':\n",
        "          role = 'id'\n",
        "      else:\n",
        "          role = 'input'\n",
        "\n",
        "      # Definindo o tipo das variáveis: nominal, ordinal, binary ou interval\n",
        "      if f == 'target':\n",
        "          level = 'binary'\n",
        "      if train[f].dtype == 'object' or f == 'id': \n",
        "          level = 'nominal'\n",
        "      elif train[f].dtype in ['float','float64'] :\n",
        "          level = 'interval'\n",
        "      elif train[f].dtype in ['int','int64'] :\n",
        "          level = 'ordinal'\n",
        "\n",
        "      # Todas variáveis são incializadas com keep exceto o id\n",
        "      keep = True\n",
        "      if f == 'id':\n",
        "          keep = False\n",
        "\n",
        "      # Definindo o tipo das variáveis da tabela de entrada\n",
        "      dtype = train[f].dtype\n",
        "\n",
        "      # Criando a lista com todo metadados\n",
        "      f_dict = {\n",
        "          'Features': f,\n",
        "          'Role': role,\n",
        "          'Level': level,\n",
        "          'Keep': keep,\n",
        "          'Type': dtype\n",
        "      }\n",
        "      data.append(f_dict)\n",
        "\n",
        "  meta = pd.DataFrame(data, columns=['Features', 'Role', 'Level', 'Keep', 'Type'])\n",
        "\n",
        "  # Quantidade de domínios distintos para cada cariável do tipo ordinal e nominal\n",
        "  card = []\n",
        "\n",
        "  v = train.columns\n",
        "  for f in v:\n",
        "      dist_values = train[f].value_counts().shape[0]\n",
        "      f_dict = {\n",
        "              'Features': f,\n",
        "              'Cardinality': dist_values\n",
        "          }\n",
        "      card.append(f_dict)\n",
        "\n",
        "  card = pd.DataFrame(card, columns=['Features', 'Cardinality'])\n",
        "\n",
        "  metadados_train = pd.merge(meta, card, on='Features')\n",
        "\n",
        "  return metadados_train"
      ],
      "execution_count": 0,
      "outputs": []
    },
    {
      "cell_type": "markdown",
      "metadata": {
        "id": "OPgo3t6KX2zX",
        "colab_type": "text"
      },
      "source": [
        "# Execution"
      ]
    },
    {
      "cell_type": "markdown",
      "metadata": {
        "id": "aF-EDhJjXCwX",
        "colab_type": "text"
      },
      "source": [
        "## Params"
      ]
    },
    {
      "cell_type": "code",
      "metadata": {
        "id": "HOEbnvJ8XGE6",
        "colab_type": "code",
        "colab": {}
      },
      "source": [
        "max_bin = 20\n",
        "force_bin = 5\n",
        "nEstimatorsRF = 100\n",
        "nEstimatorsETC = 100\n",
        "maxIterRFE = 50\n",
        "maxIterL1 = 100\n",
        "kChiSq = 'all'\n",
        "minVarScore = 2\n",
        "maxVarianceInflationFactor = 5\n",
        "testSize = 0.3\n",
        "exports = []\n",
        "pd.options.display.max_columns = None"
      ],
      "execution_count": 0,
      "outputs": []
    },
    {
      "cell_type": "markdown",
      "metadata": {
        "id": "UJvzp4_8X6lD",
        "colab_type": "text"
      },
      "source": [
        "## Importing DF"
      ]
    },
    {
      "cell_type": "code",
      "metadata": {
        "id": "zhs9L8X7-bfz",
        "colab_type": "code",
        "colab": {}
      },
      "source": [
        "dfTemp = pd.read_csv('/content/drive/My Drive/Persona/SP.txt',delimiter=';')\n",
        "dfTemp_auto = pd.read_csv('/content/drive/My Drive/Persona/SP_auto.txt',delimiter=',')\n",
        "dfGames = pd.read_excel('/content/drive/My Drive/Persona/Resultados.xlsx')\n",
        "dfGames['Data Sorteio'] = dfGames['Data Sorteio'].dt.strftime('%Y%m%d')\n",
        "dfTemp_auto = dfTemp_auto.rename(index=str, columns={'data':'Data','hora':'Hora'})\n",
        "dfTemp['Data'] = pd.to_datetime(dfTemp['Data']).dt.strftime('%Y%m%d')\n",
        "dfTemp_auto['Data'] = pd.to_datetime(dfTemp_auto['Data']).dt.strftime('%Y%m%d')\n",
        "dfTemp_auto = dfTemp_auto.drop(columns=['radiacao', 'precipitacao'])\n",
        "dfHora = dfTemp[['Data','Hora']].groupby(['Data']).max()\n",
        "dfHora = dfHora.rename(index=str, columns={\"Hora\": \"horaMax\"})\n",
        "dfTemp = pd.merge(dfTemp, dfHora, on='Data')\n",
        "dfTemp = dfTemp.loc[dfTemp['Hora'] == dfTemp['horaMax']]\n",
        "dfTemp = dfTemp.drop(columns=['Estacao', 'Unnamed: 7','horaMax'])\n",
        "dfTemp_auto = dfTemp_auto.loc[dfTemp_auto['Hora'] == 20]\n",
        "dfGamesSP = dfGames.loc[dfGames['Cidade'] == 'SÃO PAULO']\n",
        "dfGamesSP = dfGamesSP.rename(index=str, columns={'Data Sorteio': 'Data'} )\n",
        "for x in range(1,26):\n",
        "    dfGamesSP['X_{}'.format(x)] = (dfGamesSP==x).sum(axis=1)\n",
        "    dfGamesSP['X_{}'.format(x)] = dfGamesSP['X_{}'.format(x)].astype(int)\n",
        "dfMerge = pd.merge(dfGamesSP, dfTemp, on='Data')\n",
        "dfMergeA = pd.merge(dfGamesSP, dfTemp_auto, on='Data')\n",
        "dfTemp_mix = pd.merge(dfTemp, dfTemp_auto, on='Data')\n",
        "dfMergeMix = pd.merge(dfGamesSP, dfTemp_mix, on='Data')"
      ],
      "execution_count": 0,
      "outputs": []
    },
    {
      "cell_type": "code",
      "metadata": {
        "id": "teY1HydDAOp_",
        "colab_type": "code",
        "outputId": "15fc5ab4-ea2d-41bb-84b0-20fe7284a01b",
        "colab": {
          "base_uri": "https://localhost:8080/",
          "height": 153
        }
      },
      "source": [
        "dfMerge.columns"
      ],
      "execution_count": 21,
      "outputs": [
        {
          "output_type": "execute_result",
          "data": {
            "text/plain": [
              "Index(['HTML', 'Concurso', 'Cidade', 'Estado', 'Local', 'Data Unix', 'Data',\n",
              "       'Bola1', 'Bola2', 'Bola3', 'Bola4', 'Bola5', 'Bola6', 'Bola7', 'Bola8',\n",
              "       'Bola9', 'Bola10', 'Bola11', 'Bola12', 'Bola13', 'Bola14', 'Bola15',\n",
              "       'X_1', 'X_2', 'X_3', 'X_4', 'X_5', 'X_6', 'X_7', 'X_8', 'X_9', 'X_10',\n",
              "       'X_11', 'X_12', 'X_13', 'X_14', 'X_15', 'X_16', 'X_17', 'X_18', 'X_19',\n",
              "       'X_20', 'X_21', 'X_22', 'X_23', 'X_24', 'X_25', 'Hora', 'TempBulboSeco',\n",
              "       'TempBulboUmido', 'UmidadeRelativa', 'PressaoAtmEstacao'],\n",
              "      dtype='object')"
            ]
          },
          "metadata": {
            "tags": []
          },
          "execution_count": 21
        }
      ]
    },
    {
      "cell_type": "code",
      "metadata": {
        "id": "Wo410H60CDGw",
        "colab_type": "code",
        "colab": {}
      },
      "source": [
        "resposta = 'X_1'"
      ],
      "execution_count": 0,
      "outputs": []
    },
    {
      "cell_type": "code",
      "metadata": {
        "id": "NdSXraD3BuDC",
        "colab_type": "code",
        "colab": {}
      },
      "source": [
        "df001 = dfMerge[['TempBulboSeco', 'TempBulboUmido', 'UmidadeRelativa', 'PressaoAtmEstacao','X_1']].copy()"
      ],
      "execution_count": 0,
      "outputs": []
    },
    {
      "cell_type": "code",
      "metadata": {
        "id": "nn2No-2CX_Hy",
        "colab_type": "code",
        "outputId": "f4cadb77-8144-452b-8426-7bec0e43280e",
        "colab": {
          "base_uri": "https://localhost:8080/",
          "height": 34
        }
      },
      "source": [
        "# df001 = pd.read_csv('')\n",
        "\n",
        "df001.rename(columns={resposta:'target'},inplace=True)\n",
        "df001.shape"
      ],
      "execution_count": 24,
      "outputs": [
        {
          "output_type": "execute_result",
          "data": {
            "text/plain": [
              "(312, 5)"
            ]
          },
          "metadata": {
            "tags": []
          },
          "execution_count": 24
        }
      ]
    },
    {
      "cell_type": "markdown",
      "metadata": {
        "id": "-ZnfLnX5Yg7y",
        "colab_type": "text"
      },
      "source": [
        "## Data Prep"
      ]
    },
    {
      "cell_type": "markdown",
      "metadata": {
        "id": "d7ntPYZaZNcR",
        "colab_type": "text"
      },
      "source": [
        "#### Metadados"
      ]
    },
    {
      "cell_type": "code",
      "metadata": {
        "id": "LD91U0DsYiVB",
        "colab_type": "code",
        "outputId": "3d9d0bae-d523-4335-fa29-d68f4454a28e",
        "colab": {
          "base_uri": "https://localhost:8080/",
          "height": 238
        }
      },
      "source": [
        "metadados = ajusteMetadados(df001)\n",
        "metadados"
      ],
      "execution_count": 25,
      "outputs": [
        {
          "output_type": "stream",
          "text": [
            "/usr/local/lib/python3.6/dist-packages/ipykernel_launcher.py:14: FutureWarning: The join_axes-keyword is deprecated. Use .reindex or .reindex_like on the result to achieve the same functionality.\n",
            "  \n"
          ],
          "name": "stderr"
        },
        {
          "output_type": "execute_result",
          "data": {
            "text/html": [
              "<div>\n",
              "<style scoped>\n",
              "    .dataframe tbody tr th:only-of-type {\n",
              "        vertical-align: middle;\n",
              "    }\n",
              "\n",
              "    .dataframe tbody tr th {\n",
              "        vertical-align: top;\n",
              "    }\n",
              "\n",
              "    .dataframe thead th {\n",
              "        text-align: right;\n",
              "    }\n",
              "</style>\n",
              "<table border=\"1\" class=\"dataframe\">\n",
              "  <thead>\n",
              "    <tr style=\"text-align: right;\">\n",
              "      <th></th>\n",
              "      <th>Features</th>\n",
              "      <th>Role</th>\n",
              "      <th>Level</th>\n",
              "      <th>Keep</th>\n",
              "      <th>Type</th>\n",
              "      <th>Cardinality</th>\n",
              "    </tr>\n",
              "  </thead>\n",
              "  <tbody>\n",
              "    <tr>\n",
              "      <th>0</th>\n",
              "      <td>TempBulboSeco</td>\n",
              "      <td>input</td>\n",
              "      <td>interval</td>\n",
              "      <td>True</td>\n",
              "      <td>float64</td>\n",
              "      <td>138</td>\n",
              "    </tr>\n",
              "    <tr>\n",
              "      <th>1</th>\n",
              "      <td>TempBulboUmido</td>\n",
              "      <td>input</td>\n",
              "      <td>interval</td>\n",
              "      <td>True</td>\n",
              "      <td>float64</td>\n",
              "      <td>105</td>\n",
              "    </tr>\n",
              "    <tr>\n",
              "      <th>2</th>\n",
              "      <td>UmidadeRelativa</td>\n",
              "      <td>input</td>\n",
              "      <td>ordinal</td>\n",
              "      <td>True</td>\n",
              "      <td>int64</td>\n",
              "      <td>73</td>\n",
              "    </tr>\n",
              "    <tr>\n",
              "      <th>3</th>\n",
              "      <td>PressaoAtmEstacao</td>\n",
              "      <td>input</td>\n",
              "      <td>interval</td>\n",
              "      <td>True</td>\n",
              "      <td>float64</td>\n",
              "      <td>129</td>\n",
              "    </tr>\n",
              "    <tr>\n",
              "      <th>4</th>\n",
              "      <td>target</td>\n",
              "      <td>target</td>\n",
              "      <td>ordinal</td>\n",
              "      <td>True</td>\n",
              "      <td>int64</td>\n",
              "      <td>2</td>\n",
              "    </tr>\n",
              "  </tbody>\n",
              "</table>\n",
              "</div>"
            ],
            "text/plain": [
              "            Features    Role     Level  Keep     Type  Cardinality\n",
              "0      TempBulboSeco   input  interval  True  float64          138\n",
              "1     TempBulboUmido   input  interval  True  float64          105\n",
              "2    UmidadeRelativa   input   ordinal  True    int64           73\n",
              "3  PressaoAtmEstacao   input  interval  True  float64          129\n",
              "4             target  target   ordinal  True    int64            2"
            ]
          },
          "metadata": {
            "tags": []
          },
          "execution_count": 25
        }
      ]
    },
    {
      "cell_type": "code",
      "metadata": {
        "id": "ltPE-A5qZpxb",
        "colab_type": "code",
        "colab": {}
      },
      "source": [
        "dfInput = df001.copy()\n",
        "df01 = df001[df001.columns.difference(['target'])]"
      ],
      "execution_count": 0,
      "outputs": []
    },
    {
      "cell_type": "markdown",
      "metadata": {
        "id": "vS_PZaU5ZUFY",
        "colab_type": "text"
      },
      "source": [
        "#### Missings"
      ]
    },
    {
      "cell_type": "code",
      "metadata": {
        "id": "DFd1gQcUZvZW",
        "colab_type": "code",
        "outputId": "155dd207-01a2-4d18-9640-eda49ddffa25",
        "colab": {
          "base_uri": "https://localhost:8080/",
          "height": 173
        }
      },
      "source": [
        "df01_missing = df01.isnull().sum()\n",
        "qt_rows = df01.shape[0]\n",
        "\n",
        "# Gerando data frame com quantidade de missings por variavel\n",
        "df_pct_missing = pd.DataFrame(df01_missing,columns=['qt_missing'])\n",
        "df_pct_missing = pd.DataFrame(df01_missing,columns=['qt_missing'])\n",
        "df_pct_missing['Features'] = df_pct_missing.index\n",
        "df_pct_missing['pc_miss'] = (100*df_pct_missing['qt_missing'].divide(qt_rows)).astype(int)\n",
        "df_pct_missing['qt_rows'] = qt_rows\n",
        "df_pct_missing.reset_index(drop = True, inplace = True)\n",
        "\n",
        "df_pct_missing"
      ],
      "execution_count": 27,
      "outputs": [
        {
          "output_type": "execute_result",
          "data": {
            "text/html": [
              "<div>\n",
              "<style scoped>\n",
              "    .dataframe tbody tr th:only-of-type {\n",
              "        vertical-align: middle;\n",
              "    }\n",
              "\n",
              "    .dataframe tbody tr th {\n",
              "        vertical-align: top;\n",
              "    }\n",
              "\n",
              "    .dataframe thead th {\n",
              "        text-align: right;\n",
              "    }\n",
              "</style>\n",
              "<table border=\"1\" class=\"dataframe\">\n",
              "  <thead>\n",
              "    <tr style=\"text-align: right;\">\n",
              "      <th></th>\n",
              "      <th>qt_missing</th>\n",
              "      <th>Features</th>\n",
              "      <th>pc_miss</th>\n",
              "      <th>qt_rows</th>\n",
              "    </tr>\n",
              "  </thead>\n",
              "  <tbody>\n",
              "    <tr>\n",
              "      <th>0</th>\n",
              "      <td>0</td>\n",
              "      <td>PressaoAtmEstacao</td>\n",
              "      <td>0</td>\n",
              "      <td>312</td>\n",
              "    </tr>\n",
              "    <tr>\n",
              "      <th>1</th>\n",
              "      <td>0</td>\n",
              "      <td>TempBulboSeco</td>\n",
              "      <td>0</td>\n",
              "      <td>312</td>\n",
              "    </tr>\n",
              "    <tr>\n",
              "      <th>2</th>\n",
              "      <td>23</td>\n",
              "      <td>TempBulboUmido</td>\n",
              "      <td>7</td>\n",
              "      <td>312</td>\n",
              "    </tr>\n",
              "    <tr>\n",
              "      <th>3</th>\n",
              "      <td>0</td>\n",
              "      <td>UmidadeRelativa</td>\n",
              "      <td>0</td>\n",
              "      <td>312</td>\n",
              "    </tr>\n",
              "  </tbody>\n",
              "</table>\n",
              "</div>"
            ],
            "text/plain": [
              "   qt_missing           Features  pc_miss  qt_rows\n",
              "0           0  PressaoAtmEstacao        0      312\n",
              "1           0      TempBulboSeco        0      312\n",
              "2          23     TempBulboUmido        7      312\n",
              "3           0    UmidadeRelativa        0      312"
            ]
          },
          "metadata": {
            "tags": []
          },
          "execution_count": 27
        }
      ]
    },
    {
      "cell_type": "markdown",
      "metadata": {
        "id": "XfqgpNUPaUVo",
        "colab_type": "text"
      },
      "source": [
        "##### Numeric Fillable with Zero"
      ]
    },
    {
      "cell_type": "code",
      "metadata": {
        "id": "jR3IZJjraYUC",
        "colab_type": "code",
        "colab": {}
      },
      "source": [
        "filter_numeric = ['TempBulboSeco','UmidadeRelativa','PressaoAtmEstacao']\n",
        "df01_1 = df01[filter_numeric]\n",
        "df01_2 = df01[df01.columns.difference(filter_numeric)]"
      ],
      "execution_count": 0,
      "outputs": []
    },
    {
      "cell_type": "code",
      "metadata": {
        "id": "ovLTI0fia2iv",
        "colab_type": "code",
        "colab": {}
      },
      "source": [
        "df_numeric = df01_1.fillna(0)"
      ],
      "execution_count": 0,
      "outputs": []
    },
    {
      "cell_type": "markdown",
      "metadata": {
        "id": "cOukdytra_Lp",
        "colab_type": "text"
      },
      "source": [
        "##### Scaler"
      ]
    },
    {
      "cell_type": "code",
      "metadata": {
        "id": "5v_U25ocbAdZ",
        "colab_type": "code",
        "colab": {}
      },
      "source": [
        "scaler = StandardScaler()\n",
        "df02 = df_numeric.astype(float)\n",
        "scaled_fit = scaler.fit_transform(df02)\n",
        "df_numeric_scaled = pd.DataFrame(scaled_fit, columns=df_numeric.columns,index=df_numeric.index)\n",
        "exports.append(scaler)"
      ],
      "execution_count": 0,
      "outputs": []
    },
    {
      "cell_type": "markdown",
      "metadata": {
        "id": "REP2TIALb2U6",
        "colab_type": "text"
      },
      "source": [
        "##### Not Fillable with Zero"
      ]
    },
    {
      "cell_type": "code",
      "metadata": {
        "id": "7ZSaonMbb9Ra",
        "colab_type": "code",
        "outputId": "56a98f1b-29fb-4d8a-f16d-c84cd936ff04",
        "colab": {
          "base_uri": "https://localhost:8080/",
          "height": 80
        }
      },
      "source": [
        "df01_2_missing = df01_2.isnull().sum()\n",
        "\n",
        "# Gerando data frame com quantidade de missings por variavel\n",
        "df_pct_missing = pd.DataFrame(df01_2_missing,columns=['qt_missing'])\n",
        "df_pct_missing = pd.DataFrame(df01_2_missing,columns=['qt_missing'])\n",
        "df_pct_missing['Features'] = df_pct_missing.index\n",
        "df_pct_missing['pc_miss'] = (100*df_pct_missing['qt_missing'].divide(qt_rows)).astype(int)\n",
        "df_pct_missing['qt_rows'] = qt_rows\n",
        "df_pct_missing.reset_index(drop = True, inplace = True)\n",
        "\n",
        "df_pct_missing"
      ],
      "execution_count": 31,
      "outputs": [
        {
          "output_type": "execute_result",
          "data": {
            "text/html": [
              "<div>\n",
              "<style scoped>\n",
              "    .dataframe tbody tr th:only-of-type {\n",
              "        vertical-align: middle;\n",
              "    }\n",
              "\n",
              "    .dataframe tbody tr th {\n",
              "        vertical-align: top;\n",
              "    }\n",
              "\n",
              "    .dataframe thead th {\n",
              "        text-align: right;\n",
              "    }\n",
              "</style>\n",
              "<table border=\"1\" class=\"dataframe\">\n",
              "  <thead>\n",
              "    <tr style=\"text-align: right;\">\n",
              "      <th></th>\n",
              "      <th>qt_missing</th>\n",
              "      <th>Features</th>\n",
              "      <th>pc_miss</th>\n",
              "      <th>qt_rows</th>\n",
              "    </tr>\n",
              "  </thead>\n",
              "  <tbody>\n",
              "    <tr>\n",
              "      <th>0</th>\n",
              "      <td>23</td>\n",
              "      <td>TempBulboUmido</td>\n",
              "      <td>7</td>\n",
              "      <td>312</td>\n",
              "    </tr>\n",
              "  </tbody>\n",
              "</table>\n",
              "</div>"
            ],
            "text/plain": [
              "   qt_missing        Features  pc_miss  qt_rows\n",
              "0          23  TempBulboUmido        7      312"
            ]
          },
          "metadata": {
            "tags": []
          },
          "execution_count": 31
        }
      ]
    },
    {
      "cell_type": "markdown",
      "metadata": {
        "id": "zAaeNUPTcNke",
        "colab_type": "text"
      },
      "source": [
        "##### Discretization"
      ]
    },
    {
      "cell_type": "code",
      "metadata": {
        "id": "Muo6HuZwcQuQ",
        "colab_type": "code",
        "colab": {}
      },
      "source": [
        "filter_discretizer = ['TempBulboUmido']\n",
        "filter_binner = filter_discretizer.copy()\n",
        "filter_binner.append('target')\n",
        "vars_dis = dfInput[filter_binner].copy()\n",
        "vars_others = df01_2[df01_2.columns.difference(filter_discretizer)]"
      ],
      "execution_count": 0,
      "outputs": []
    },
    {
      "cell_type": "code",
      "metadata": {
        "id": "mUa4wiTdcx1i",
        "colab_type": "code",
        "outputId": "2dc88fbe-536f-42c7-c338-faa19e682589",
        "colab": {
          "base_uri": "https://localhost:8080/",
          "height": 34
        }
      },
      "source": [
        "vars_discretized, binner_dict_, scores_dict_, chars_dict_, probas_list_, chars_list_ = dt_binner(vars_dis,filter_discretizer)"
      ],
      "execution_count": 33,
      "outputs": [
        {
          "output_type": "display_data",
          "data": {
            "text/html": [
              "\n",
              "        <progress\n",
              "            value='100'\n",
              "            max='100',\n",
              "            style='width: 100%'\n",
              "        >\n",
              "            100\n",
              "        </progress>\n",
              "    "
            ],
            "text/plain": [
              "<IPython.core.display.HTML object>"
            ]
          },
          "metadata": {
            "tags": []
          }
        }
      ]
    },
    {
      "cell_type": "code",
      "metadata": {
        "id": "tipYEzZpdIqv",
        "colab_type": "code",
        "colab": {}
      },
      "source": [
        "vars_discretized.drop(filter_binner,axis=1,inplace=True)\n",
        "vars_discretized.columns = filter_discretizer"
      ],
      "execution_count": 0,
      "outputs": []
    },
    {
      "cell_type": "code",
      "metadata": {
        "id": "rHSFEGpndd_p",
        "colab_type": "code",
        "colab": {}
      },
      "source": [
        "exports.append(binner_dict_)\n",
        "exports.append(chars_list_)\n",
        "exports.append(probas_list_)"
      ],
      "execution_count": 0,
      "outputs": []
    },
    {
      "cell_type": "markdown",
      "metadata": {
        "id": "-DIsHrUhdu4F",
        "colab_type": "text"
      },
      "source": [
        "##### Categoric"
      ]
    },
    {
      "cell_type": "code",
      "metadata": {
        "id": "hKhAce7rdwkp",
        "colab_type": "code",
        "outputId": "16568b7b-1db0-4303-80ad-f3ff4d0404f1",
        "colab": {
          "base_uri": "https://localhost:8080/",
          "height": 49
        }
      },
      "source": [
        "filter_others = list(vars_others.columns)\n",
        "metadados[metadados['Features'].isin(filter_others)]"
      ],
      "execution_count": 36,
      "outputs": [
        {
          "output_type": "execute_result",
          "data": {
            "text/html": [
              "<div>\n",
              "<style scoped>\n",
              "    .dataframe tbody tr th:only-of-type {\n",
              "        vertical-align: middle;\n",
              "    }\n",
              "\n",
              "    .dataframe tbody tr th {\n",
              "        vertical-align: top;\n",
              "    }\n",
              "\n",
              "    .dataframe thead th {\n",
              "        text-align: right;\n",
              "    }\n",
              "</style>\n",
              "<table border=\"1\" class=\"dataframe\">\n",
              "  <thead>\n",
              "    <tr style=\"text-align: right;\">\n",
              "      <th></th>\n",
              "      <th>Features</th>\n",
              "      <th>Role</th>\n",
              "      <th>Level</th>\n",
              "      <th>Keep</th>\n",
              "      <th>Type</th>\n",
              "      <th>Cardinality</th>\n",
              "    </tr>\n",
              "  </thead>\n",
              "  <tbody>\n",
              "  </tbody>\n",
              "</table>\n",
              "</div>"
            ],
            "text/plain": [
              "Empty DataFrame\n",
              "Columns: [Features, Role, Level, Keep, Type, Cardinality]\n",
              "Index: []"
            ]
          },
          "metadata": {
            "tags": []
          },
          "execution_count": 36
        }
      ]
    },
    {
      "cell_type": "code",
      "metadata": {
        "id": "TLbV6k05eIGx",
        "colab_type": "code",
        "colab": {}
      },
      "source": [
        "vars_manual = []\n",
        "vars_encoder = []"
      ],
      "execution_count": 0,
      "outputs": []
    },
    {
      "cell_type": "code",
      "metadata": {
        "id": "TrVctxInePmG",
        "colab_type": "code",
        "colab": {}
      },
      "source": [
        "vars_cat_NA = pd.merge(vars_discretized,vars_others[vars_others.columns.difference(vars_manual + vars_encoder)], left_index=True, right_index=True)\n",
        "vars_cat_LE = vars_others[vars_encoder]\n",
        "vars_cat_MA = vars_others[vars_manual]"
      ],
      "execution_count": 0,
      "outputs": []
    },
    {
      "cell_type": "code",
      "metadata": {
        "id": "HJoNhGiLeq7L",
        "colab_type": "code",
        "colab": {}
      },
      "source": [
        "df02_2 = vars_cat_NA.fillna('NA')\n",
        "df02_3 = vars_cat_MA.fillna('Constante')"
      ],
      "execution_count": 0,
      "outputs": []
    },
    {
      "cell_type": "markdown",
      "metadata": {
        "id": "qpgWMggqfOe1",
        "colab_type": "text"
      },
      "source": [
        "##### Dummies"
      ]
    },
    {
      "cell_type": "code",
      "metadata": {
        "id": "3peUnZiKfPwC",
        "colab_type": "code",
        "outputId": "3b2850ab-7cc7-4f0d-9d5f-6c22c7848b82",
        "colab": {
          "base_uri": "https://localhost:8080/",
          "height": 114
        }
      },
      "source": [
        "df_pre_dummies = pd.merge(df02_2,df02_3, left_index=True, right_index=True)\n",
        "vars_to_dummify = ajusteMetadados(df_pre_dummies)\n",
        "vars_to_dummify"
      ],
      "execution_count": 40,
      "outputs": [
        {
          "output_type": "stream",
          "text": [
            "/usr/local/lib/python3.6/dist-packages/ipykernel_launcher.py:14: FutureWarning: The join_axes-keyword is deprecated. Use .reindex or .reindex_like on the result to achieve the same functionality.\n",
            "  \n"
          ],
          "name": "stderr"
        },
        {
          "output_type": "execute_result",
          "data": {
            "text/html": [
              "<div>\n",
              "<style scoped>\n",
              "    .dataframe tbody tr th:only-of-type {\n",
              "        vertical-align: middle;\n",
              "    }\n",
              "\n",
              "    .dataframe tbody tr th {\n",
              "        vertical-align: top;\n",
              "    }\n",
              "\n",
              "    .dataframe thead th {\n",
              "        text-align: right;\n",
              "    }\n",
              "</style>\n",
              "<table border=\"1\" class=\"dataframe\">\n",
              "  <thead>\n",
              "    <tr style=\"text-align: right;\">\n",
              "      <th></th>\n",
              "      <th>Features</th>\n",
              "      <th>Role</th>\n",
              "      <th>Level</th>\n",
              "      <th>Keep</th>\n",
              "      <th>Type</th>\n",
              "      <th>Cardinality</th>\n",
              "    </tr>\n",
              "  </thead>\n",
              "  <tbody>\n",
              "    <tr>\n",
              "      <th>0</th>\n",
              "      <td>TempBulboUmido</td>\n",
              "      <td>input</td>\n",
              "      <td>nominal</td>\n",
              "      <td>True</td>\n",
              "      <td>object</td>\n",
              "      <td>3</td>\n",
              "    </tr>\n",
              "  </tbody>\n",
              "</table>\n",
              "</div>"
            ],
            "text/plain": [
              "         Features   Role    Level  Keep    Type  Cardinality\n",
              "0  TempBulboUmido  input  nominal  True  object            3"
            ]
          },
          "metadata": {
            "tags": []
          },
          "execution_count": 40
        }
      ]
    },
    {
      "cell_type": "code",
      "metadata": {
        "id": "Py-nCrZXfwCF",
        "colab_type": "code",
        "outputId": "087f4c2d-91aa-471b-af20-0ed641896564",
        "colab": {
          "base_uri": "https://localhost:8080/",
          "height": 51
        }
      },
      "source": [
        "df_pre_dummies.isnull().sum()"
      ],
      "execution_count": 41,
      "outputs": [
        {
          "output_type": "execute_result",
          "data": {
            "text/plain": [
              "TempBulboUmido    0\n",
              "dtype: int64"
            ]
          },
          "metadata": {
            "tags": []
          },
          "execution_count": 41
        }
      ]
    },
    {
      "cell_type": "code",
      "metadata": {
        "id": "ycm0195af5Uh",
        "colab_type": "code",
        "outputId": "1a1809b5-5421-49a5-c15e-57658859d055",
        "colab": {
          "base_uri": "https://localhost:8080/",
          "height": 34
        }
      },
      "source": [
        "df_pre_dummies.shape"
      ],
      "execution_count": 42,
      "outputs": [
        {
          "output_type": "execute_result",
          "data": {
            "text/plain": [
              "(312, 1)"
            ]
          },
          "metadata": {
            "tags": []
          },
          "execution_count": 42
        }
      ]
    },
    {
      "cell_type": "code",
      "metadata": {
        "id": "w4TCT5nWf9L1",
        "colab_type": "code",
        "colab": {}
      },
      "source": [
        "df_dummies = pd.get_dummies(df_pre_dummies,prefix=df_pre_dummies.columns,prefix_sep='_',drop_first=True,columns=df_pre_dummies.columns)"
      ],
      "execution_count": 0,
      "outputs": []
    },
    {
      "cell_type": "code",
      "metadata": {
        "id": "zGbAGiKqgWYY",
        "colab_type": "code",
        "outputId": "9ae62195-cff9-4863-cefc-81fcdaba33f7",
        "colab": {
          "base_uri": "https://localhost:8080/",
          "height": 34
        }
      },
      "source": [
        "df_dummies.shape"
      ],
      "execution_count": 44,
      "outputs": [
        {
          "output_type": "execute_result",
          "data": {
            "text/plain": [
              "(312, 2)"
            ]
          },
          "metadata": {
            "tags": []
          },
          "execution_count": 44
        }
      ]
    },
    {
      "cell_type": "code",
      "metadata": {
        "id": "vY81GSWmgY6U",
        "colab_type": "code",
        "colab": {}
      },
      "source": [
        "df_dummies.columns = [col.replace(' ','') for col in df_dummies.columns]"
      ],
      "execution_count": 0,
      "outputs": []
    },
    {
      "cell_type": "markdown",
      "metadata": {
        "id": "GTvU7B8rgl6I",
        "colab_type": "text"
      },
      "source": [
        "##### High Cardinality Nominals"
      ]
    },
    {
      "cell_type": "code",
      "metadata": {
        "id": "2keWHOi-gpoy",
        "colab_type": "code",
        "outputId": "6fe8115a-8089-448b-ef60-58ba19cd61d7",
        "colab": {
          "base_uri": "https://localhost:8080/",
          "height": 83
        }
      },
      "source": [
        "vars_to_le = ajusteMetadados(vars_cat_LE)\n",
        "vars_to_le"
      ],
      "execution_count": 46,
      "outputs": [
        {
          "output_type": "stream",
          "text": [
            "/usr/local/lib/python3.6/dist-packages/ipykernel_launcher.py:14: FutureWarning: The join_axes-keyword is deprecated. Use .reindex or .reindex_like on the result to achieve the same functionality.\n",
            "  \n"
          ],
          "name": "stderr"
        },
        {
          "output_type": "execute_result",
          "data": {
            "text/html": [
              "<div>\n",
              "<style scoped>\n",
              "    .dataframe tbody tr th:only-of-type {\n",
              "        vertical-align: middle;\n",
              "    }\n",
              "\n",
              "    .dataframe tbody tr th {\n",
              "        vertical-align: top;\n",
              "    }\n",
              "\n",
              "    .dataframe thead th {\n",
              "        text-align: right;\n",
              "    }\n",
              "</style>\n",
              "<table border=\"1\" class=\"dataframe\">\n",
              "  <thead>\n",
              "    <tr style=\"text-align: right;\">\n",
              "      <th></th>\n",
              "      <th>Role</th>\n",
              "      <th>Level</th>\n",
              "      <th>Keep</th>\n",
              "      <th>Type</th>\n",
              "      <th>Features</th>\n",
              "      <th>Cardinality</th>\n",
              "    </tr>\n",
              "  </thead>\n",
              "  <tbody>\n",
              "  </tbody>\n",
              "</table>\n",
              "</div>"
            ],
            "text/plain": [
              "Empty DataFrame\n",
              "Columns: [Role, Level, Keep, Type, Features, Cardinality]\n",
              "Index: []"
            ]
          },
          "metadata": {
            "tags": []
          },
          "execution_count": 46
        }
      ]
    },
    {
      "cell_type": "code",
      "metadata": {
        "id": "KVxvf7IZgyJh",
        "colab_type": "code",
        "outputId": "98b39cdf-8794-4f4c-bb44-352e25759672",
        "colab": {
          "base_uri": "https://localhost:8080/",
          "height": 34
        }
      },
      "source": [
        "vars_cat_LE.isnull().sum()"
      ],
      "execution_count": 47,
      "outputs": [
        {
          "output_type": "execute_result",
          "data": {
            "text/plain": [
              "Series([], dtype: float64)"
            ]
          },
          "metadata": {
            "tags": []
          },
          "execution_count": 47
        }
      ]
    },
    {
      "cell_type": "code",
      "metadata": {
        "id": "ImuJyEGhg8vM",
        "colab_type": "code",
        "colab": {}
      },
      "source": [
        "df_le = vars_cat_LE.fillna('NA')"
      ],
      "execution_count": 0,
      "outputs": []
    },
    {
      "cell_type": "code",
      "metadata": {
        "id": "1d7lsoKrhHkI",
        "colab_type": "code",
        "colab": {}
      },
      "source": [
        "# LE_coluna = preprocessing.LabelEncoder()\n",
        "# LE_coluna_fit = LE_coluna.fit_transform(df_le['coluna'].astype(str))\n",
        "# LE_coluna_df = pd.DataFrame(LE_coluna_fit,columns=['coluna'],index=df_le.index)\n",
        "# exports.append(LE_coluna)"
      ],
      "execution_count": 0,
      "outputs": []
    },
    {
      "cell_type": "markdown",
      "metadata": {
        "id": "0X8E8olNhywG",
        "colab_type": "text"
      },
      "source": [
        "##### ABT"
      ]
    },
    {
      "cell_type": "code",
      "metadata": {
        "id": "g9-HuDukh0BC",
        "colab_type": "code",
        "colab": {}
      },
      "source": [
        "df_tmp1 = pd.merge(df_numeric_scaled,df_dummies,left_index=True,right_index=True)\n",
        "df_tmp2 = pd.merge(df_tmp1,df_le,left_index=True,right_index=True)\n",
        "ABT_df = pd.merge(df_tmp2,dfInput[['target']],left_index=True,right_index=True)"
      ],
      "execution_count": 0,
      "outputs": []
    },
    {
      "cell_type": "code",
      "metadata": {
        "id": "GQlqcB6Kircz",
        "colab_type": "code",
        "colab": {}
      },
      "source": [
        "df_tmp3 = pd.merge(df_numeric,df_pre_dummies,left_index=True,right_index=True)\n",
        "df_tmp4 = pd.merge(df_tmp3,df_le,left_index=True,right_index=True)\n",
        "WOE_df = pd.merge(df_tmp4,dfInput[['target']],left_index=True,right_index=True)"
      ],
      "execution_count": 0,
      "outputs": []
    },
    {
      "cell_type": "markdown",
      "metadata": {
        "id": "kj5gYVZ0jhmu",
        "colab_type": "text"
      },
      "source": [
        "## Feature Selection"
      ]
    },
    {
      "cell_type": "markdown",
      "metadata": {
        "id": "829v7rn9kQjR",
        "colab_type": "text"
      },
      "source": [
        "### Descriptive Stats"
      ]
    },
    {
      "cell_type": "code",
      "metadata": {
        "id": "gfnENLQ6jku6",
        "colab_type": "code",
        "outputId": "29a5184c-7806-48e6-eee5-f941ae24dd2b",
        "colab": {
          "base_uri": "https://localhost:8080/",
          "height": 306
        }
      },
      "source": [
        "df = WOE_df\n",
        "print('Descriptive Stats\\n')\n",
        "print(df.target.value_counts())\n",
        "print(df.target.value_counts()/len(df))\n",
        "print(df.describe())"
      ],
      "execution_count": 52,
      "outputs": [
        {
          "output_type": "stream",
          "text": [
            "Descriptive Stats\n",
            "\n",
            "1    188\n",
            "0    124\n",
            "Name: target, dtype: int64\n",
            "1    0.602564\n",
            "0    0.397436\n",
            "Name: target, dtype: float64\n",
            "       TempBulboSeco  UmidadeRelativa  PressaoAtmEstacao      target\n",
            "count     312.000000       312.000000         312.000000  312.000000\n",
            "mean       24.235897        60.419872         926.312179    0.602564\n",
            "std         4.484757        17.916383           3.467142    0.490154\n",
            "min        12.100000        19.000000         918.400000    0.000000\n",
            "25%        21.100000        45.000000         923.975000    0.000000\n",
            "50%        24.200000        61.500000         925.950000    1.000000\n",
            "75%        27.350000        74.000000         928.300000    1.000000\n",
            "max        34.900000        98.000000         937.000000    1.000000\n"
          ],
          "name": "stdout"
        }
      ]
    },
    {
      "cell_type": "code",
      "metadata": {
        "id": "iayktQmgj4om",
        "colab_type": "code",
        "outputId": "8d8f13d9-21e0-43ba-e396-3fbf44171b36",
        "colab": {
          "base_uri": "https://localhost:8080/",
          "height": 426
        }
      },
      "source": [
        "print('\\nCorrelation graph\\n')\n",
        "%matplotlib inline\n",
        "corr = df.corr()\n",
        "print(sns.heatmap(corr, xticklabels=corr.columns, yticklabels=corr.columns))"
      ],
      "execution_count": 53,
      "outputs": [
        {
          "output_type": "stream",
          "text": [
            "\n",
            "Correlation graph\n",
            "\n",
            "AxesSubplot(0.125,0.125;0.62x0.755)\n"
          ],
          "name": "stdout"
        },
        {
          "output_type": "display_data",
          "data": {
            "image/png": "[encoded data removed]",
            "text/plain": [
              "<Figure size 432x288 with 2 Axes>"
            ]
          },
          "metadata": {
            "tags": []
          }
        }
      ]
    },
    {
      "cell_type": "code",
      "metadata": {
        "id": "qf4Abs3Ij_LR",
        "colab_type": "code",
        "outputId": "01828166-5ffb-459c-931f-1bea2f1f7d95",
        "colab": {
          "base_uri": "https://localhost:8080/",
          "height": 51
        }
      },
      "source": [
        "print('Spliting the dataframe into features and labels\\n')\n",
        "features = df[df.columns.difference(['target'])]\n",
        "labels = df['target']"
      ],
      "execution_count": 54,
      "outputs": [
        {
          "output_type": "stream",
          "text": [
            "Spliting the dataframe into features and labels\n",
            "\n"
          ],
          "name": "stdout"
        }
      ]
    },
    {
      "cell_type": "markdown",
      "metadata": {
        "id": "ob6pC1qgkUVI",
        "colab_type": "text"
      },
      "source": [
        "### WOE"
      ]
    },
    {
      "cell_type": "code",
      "metadata": {
        "id": "bH4lQ8JMkVNW",
        "colab_type": "code",
        "outputId": "58f18878-d18b-4756-ae38-ae7d0eba9182",
        "colab": {
          "base_uri": "https://localhost:8080/",
          "height": 289
        }
      },
      "source": [
        "final_iv, IV = data_vars(df[df.columns.difference(['target'])],df.target,max_bin)\n",
        "IV = IV.rename(columns={'VAR_NAME':'index'})\n",
        "print('----\\n|IV|\\n----\\n{}'.format(IV.sort_values(['IV'],ascending=0)))\n",
        "print('-----\\n|WOE|\\n-----\\n')\n",
        "transform_vars_list = df.columns.difference(['target'])\n",
        "transform_prefix = 'new_'\n",
        "number_of_elements = len(transform_vars_list)\n",
        "count = 1\n",
        "out = display(update_progress(0, 100), display_id=True)\n",
        "for var in transform_vars_list:\n",
        "  small_df = final_iv[final_iv['VAR_NAME'] == var]\n",
        "  transform_dict = dict(zip(small_df.MAX_VALUE,small_df.WOE))\n",
        "  replace_cmd = ''\n",
        "  replace_cmd1 = ''\n",
        "  for i in sorted(transform_dict.items()):\n",
        "    replace_cmd = replace_cmd + str(i[1]) + str(' if x <= ') + str(i[0]) + ' else '\n",
        "    replace_cmd1 = replace_cmd1 + str(i[1]) + str(' if x == \"') + str(i[0]) + '\" else '\n",
        "  replace_cmd = replace_cmd + '0'\n",
        "  replace_cmd1 = replace_cmd1 + '0'\n",
        "  if replace_cmd != '0':\n",
        "    try:\n",
        "      df[transform_prefix + var] = df[var].apply(lambda x: eval(replace_cmd))\n",
        "    except:\n",
        "      df[transform_prefix + var] = df[var].apply(lambda x: eval(replace_cmd1))\n",
        "  out.update(update_progress((count / number_of_elements)*100, 100))\n",
        "  count = count + 1\n",
        "out.update(update_progress(100, 100))"
      ],
      "execution_count": 55,
      "outputs": [
        {
          "output_type": "display_data",
          "data": {
            "text/html": [
              "\n",
              "        <progress\n",
              "            value='100'\n",
              "            max='100',\n",
              "            style='width: 100%'\n",
              "        >\n",
              "            100\n",
              "        </progress>\n",
              "    "
            ],
            "text/plain": [
              "<IPython.core.display.HTML object>"
            ]
          },
          "metadata": {
            "tags": []
          }
        },
        {
          "output_type": "stream",
          "text": [
            "/usr/local/lib/python3.6/dist-packages/pandas/core/series.py:856: RuntimeWarning: divide by zero encountered in log\n",
            "  result = getattr(ufunc, method)(*inputs, **kwargs)\n"
          ],
          "name": "stderr"
        },
        {
          "output_type": "stream",
          "text": [
            "----\n",
            "|IV|\n",
            "----\n",
            "               index        IV\n",
            "3    UmidadeRelativa  0.031753\n",
            "1      TempBulboSeco  0.024187\n",
            "0  PressaoAtmEstacao  0.021343\n",
            "2     TempBulboUmido  0.000269\n",
            "-----\n",
            "|WOE|\n",
            "-----\n",
            "\n"
          ],
          "name": "stdout"
        },
        {
          "output_type": "display_data",
          "data": {
            "text/html": [
              "\n",
              "        <progress\n",
              "            value='100'\n",
              "            max='100',\n",
              "            style='width: 100%'\n",
              "        >\n",
              "            100\n",
              "        </progress>\n",
              "    "
            ],
            "text/plain": [
              "<IPython.core.display.HTML object>"
            ]
          },
          "metadata": {
            "tags": []
          }
        }
      ]
    },
    {
      "cell_type": "code",
      "metadata": {
        "id": "Rz_Y5-sSI3J0",
        "colab_type": "code",
        "outputId": "88bea034-c77a-40a1-8570-d14e1201b55f",
        "colab": {
          "base_uri": "https://localhost:8080/",
          "height": 483
        }
      },
      "source": [
        "final_iv"
      ],
      "execution_count": 56,
      "outputs": [
        {
          "output_type": "execute_result",
          "data": {
            "text/html": [
              "<div>\n",
              "<style scoped>\n",
              "    .dataframe tbody tr th:only-of-type {\n",
              "        vertical-align: middle;\n",
              "    }\n",
              "\n",
              "    .dataframe tbody tr th {\n",
              "        vertical-align: top;\n",
              "    }\n",
              "\n",
              "    .dataframe thead th {\n",
              "        text-align: right;\n",
              "    }\n",
              "</style>\n",
              "<table border=\"1\" class=\"dataframe\">\n",
              "  <thead>\n",
              "    <tr style=\"text-align: right;\">\n",
              "      <th></th>\n",
              "      <th>VAR_NAME</th>\n",
              "      <th>MIN_VALUE</th>\n",
              "      <th>MAX_VALUE</th>\n",
              "      <th>COUNT</th>\n",
              "      <th>EVENT</th>\n",
              "      <th>EVENT_RATE</th>\n",
              "      <th>NONEVENT</th>\n",
              "      <th>NON_EVENT_RATE</th>\n",
              "      <th>DIST_EVENT</th>\n",
              "      <th>DIST_NON_EVENT</th>\n",
              "      <th>WOE</th>\n",
              "      <th>IV</th>\n",
              "    </tr>\n",
              "  </thead>\n",
              "  <tbody>\n",
              "    <tr>\n",
              "      <th>0</th>\n",
              "      <td>PressaoAtmEstacao</td>\n",
              "      <td>918.4</td>\n",
              "      <td>924.6</td>\n",
              "      <td>104</td>\n",
              "      <td>66</td>\n",
              "      <td>0.634615</td>\n",
              "      <td>38</td>\n",
              "      <td>0.365385</td>\n",
              "      <td>0.351064</td>\n",
              "      <td>0.306452</td>\n",
              "      <td>0.135908</td>\n",
              "      <td>0.021343</td>\n",
              "    </tr>\n",
              "    <tr>\n",
              "      <th>1</th>\n",
              "      <td>PressaoAtmEstacao</td>\n",
              "      <td>924.7</td>\n",
              "      <td>927.7</td>\n",
              "      <td>105</td>\n",
              "      <td>65</td>\n",
              "      <td>0.619048</td>\n",
              "      <td>40</td>\n",
              "      <td>0.380952</td>\n",
              "      <td>0.345745</td>\n",
              "      <td>0.322581</td>\n",
              "      <td>0.069347</td>\n",
              "      <td>0.021343</td>\n",
              "    </tr>\n",
              "    <tr>\n",
              "      <th>2</th>\n",
              "      <td>PressaoAtmEstacao</td>\n",
              "      <td>927.8</td>\n",
              "      <td>937</td>\n",
              "      <td>103</td>\n",
              "      <td>57</td>\n",
              "      <td>0.553398</td>\n",
              "      <td>46</td>\n",
              "      <td>0.446602</td>\n",
              "      <td>0.303191</td>\n",
              "      <td>0.370968</td>\n",
              "      <td>-0.201751</td>\n",
              "      <td>0.021343</td>\n",
              "    </tr>\n",
              "    <tr>\n",
              "      <th>3</th>\n",
              "      <td>TempBulboSeco</td>\n",
              "      <td>12.1</td>\n",
              "      <td>21.1</td>\n",
              "      <td>79</td>\n",
              "      <td>50</td>\n",
              "      <td>0.632911</td>\n",
              "      <td>29</td>\n",
              "      <td>0.367089</td>\n",
              "      <td>0.265957</td>\n",
              "      <td>0.233871</td>\n",
              "      <td>0.128567</td>\n",
              "      <td>0.024187</td>\n",
              "    </tr>\n",
              "    <tr>\n",
              "      <th>4</th>\n",
              "      <td>TempBulboSeco</td>\n",
              "      <td>21.2</td>\n",
              "      <td>24.2</td>\n",
              "      <td>82</td>\n",
              "      <td>51</td>\n",
              "      <td>0.621951</td>\n",
              "      <td>31</td>\n",
              "      <td>0.378049</td>\n",
              "      <td>0.271277</td>\n",
              "      <td>0.250000</td>\n",
              "      <td>0.081678</td>\n",
              "      <td>0.024187</td>\n",
              "    </tr>\n",
              "    <tr>\n",
              "      <th>5</th>\n",
              "      <td>TempBulboSeco</td>\n",
              "      <td>24.4</td>\n",
              "      <td>27.3</td>\n",
              "      <td>73</td>\n",
              "      <td>45</td>\n",
              "      <td>0.616438</td>\n",
              "      <td>28</td>\n",
              "      <td>0.383562</td>\n",
              "      <td>0.239362</td>\n",
              "      <td>0.225806</td>\n",
              "      <td>0.058298</td>\n",
              "      <td>0.024187</td>\n",
              "    </tr>\n",
              "    <tr>\n",
              "      <th>6</th>\n",
              "      <td>TempBulboSeco</td>\n",
              "      <td>27.5</td>\n",
              "      <td>34.9</td>\n",
              "      <td>78</td>\n",
              "      <td>42</td>\n",
              "      <td>0.538462</td>\n",
              "      <td>36</td>\n",
              "      <td>0.461538</td>\n",
              "      <td>0.223404</td>\n",
              "      <td>0.290323</td>\n",
              "      <td>-0.262010</td>\n",
              "      <td>0.024187</td>\n",
              "    </tr>\n",
              "    <tr>\n",
              "      <th>7</th>\n",
              "      <td>TempBulboUmido</td>\n",
              "      <td>A</td>\n",
              "      <td>A</td>\n",
              "      <td>287</td>\n",
              "      <td>174</td>\n",
              "      <td>0.606272</td>\n",
              "      <td>113</td>\n",
              "      <td>0.393728</td>\n",
              "      <td>0.925532</td>\n",
              "      <td>0.911290</td>\n",
              "      <td>0.015507</td>\n",
              "      <td>0.000269</td>\n",
              "    </tr>\n",
              "    <tr>\n",
              "      <th>8</th>\n",
              "      <td>TempBulboUmido</td>\n",
              "      <td>B</td>\n",
              "      <td>B</td>\n",
              "      <td>2</td>\n",
              "      <td>0</td>\n",
              "      <td>0.000000</td>\n",
              "      <td>2</td>\n",
              "      <td>1.000000</td>\n",
              "      <td>0.000000</td>\n",
              "      <td>0.016129</td>\n",
              "      <td>0.000000</td>\n",
              "      <td>0.000269</td>\n",
              "    </tr>\n",
              "    <tr>\n",
              "      <th>9</th>\n",
              "      <td>TempBulboUmido</td>\n",
              "      <td>NA</td>\n",
              "      <td>NA</td>\n",
              "      <td>23</td>\n",
              "      <td>14</td>\n",
              "      <td>0.608696</td>\n",
              "      <td>9</td>\n",
              "      <td>0.391304</td>\n",
              "      <td>0.074468</td>\n",
              "      <td>0.072581</td>\n",
              "      <td>0.025672</td>\n",
              "      <td>0.000269</td>\n",
              "    </tr>\n",
              "    <tr>\n",
              "      <th>10</th>\n",
              "      <td>UmidadeRelativa</td>\n",
              "      <td>19</td>\n",
              "      <td>45</td>\n",
              "      <td>79</td>\n",
              "      <td>43</td>\n",
              "      <td>0.544304</td>\n",
              "      <td>36</td>\n",
              "      <td>0.455696</td>\n",
              "      <td>0.228723</td>\n",
              "      <td>0.290323</td>\n",
              "      <td>-0.238479</td>\n",
              "      <td>0.031753</td>\n",
              "    </tr>\n",
              "    <tr>\n",
              "      <th>11</th>\n",
              "      <td>UmidadeRelativa</td>\n",
              "      <td>46</td>\n",
              "      <td>61</td>\n",
              "      <td>77</td>\n",
              "      <td>45</td>\n",
              "      <td>0.584416</td>\n",
              "      <td>32</td>\n",
              "      <td>0.415584</td>\n",
              "      <td>0.239362</td>\n",
              "      <td>0.258065</td>\n",
              "      <td>-0.075234</td>\n",
              "      <td>0.031753</td>\n",
              "    </tr>\n",
              "    <tr>\n",
              "      <th>12</th>\n",
              "      <td>UmidadeRelativa</td>\n",
              "      <td>62</td>\n",
              "      <td>74</td>\n",
              "      <td>80</td>\n",
              "      <td>50</td>\n",
              "      <td>0.625000</td>\n",
              "      <td>30</td>\n",
              "      <td>0.375000</td>\n",
              "      <td>0.265957</td>\n",
              "      <td>0.241935</td>\n",
              "      <td>0.094665</td>\n",
              "      <td>0.031753</td>\n",
              "    </tr>\n",
              "    <tr>\n",
              "      <th>13</th>\n",
              "      <td>UmidadeRelativa</td>\n",
              "      <td>75</td>\n",
              "      <td>98</td>\n",
              "      <td>76</td>\n",
              "      <td>50</td>\n",
              "      <td>0.657895</td>\n",
              "      <td>26</td>\n",
              "      <td>0.342105</td>\n",
              "      <td>0.265957</td>\n",
              "      <td>0.209677</td>\n",
              "      <td>0.237766</td>\n",
              "      <td>0.031753</td>\n",
              "    </tr>\n",
              "  </tbody>\n",
              "</table>\n",
              "</div>"
            ],
            "text/plain": [
              "             VAR_NAME MIN_VALUE MAX_VALUE  COUNT  EVENT  EVENT_RATE  NONEVENT  \\\n",
              "0   PressaoAtmEstacao     918.4     924.6    104     66    0.634615        38   \n",
              "1   PressaoAtmEstacao     924.7     927.7    105     65    0.619048        40   \n",
              "2   PressaoAtmEstacao     927.8       937    103     57    0.553398        46   \n",
              "3       TempBulboSeco      12.1      21.1     79     50    0.632911        29   \n",
              "4       TempBulboSeco      21.2      24.2     82     51    0.621951        31   \n",
              "5       TempBulboSeco      24.4      27.3     73     45    0.616438        28   \n",
              "6       TempBulboSeco      27.5      34.9     78     42    0.538462        36   \n",
              "7      TempBulboUmido         A         A    287    174    0.606272       113   \n",
              "8      TempBulboUmido         B         B      2      0    0.000000         2   \n",
              "9      TempBulboUmido        NA        NA     23     14    0.608696         9   \n",
              "10    UmidadeRelativa        19        45     79     43    0.544304        36   \n",
              "11    UmidadeRelativa        46        61     77     45    0.584416        32   \n",
              "12    UmidadeRelativa        62        74     80     50    0.625000        30   \n",
              "13    UmidadeRelativa        75        98     76     50    0.657895        26   \n",
              "\n",
              "    NON_EVENT_RATE  DIST_EVENT  DIST_NON_EVENT       WOE        IV  \n",
              "0         0.365385    0.351064        0.306452  0.135908  0.021343  \n",
              "1         0.380952    0.345745        0.322581  0.069347  0.021343  \n",
              "2         0.446602    0.303191        0.370968 -0.201751  0.021343  \n",
              "3         0.367089    0.265957        0.233871  0.128567  0.024187  \n",
              "4         0.378049    0.271277        0.250000  0.081678  0.024187  \n",
              "5         0.383562    0.239362        0.225806  0.058298  0.024187  \n",
              "6         0.461538    0.223404        0.290323 -0.262010  0.024187  \n",
              "7         0.393728    0.925532        0.911290  0.015507  0.000269  \n",
              "8         1.000000    0.000000        0.016129  0.000000  0.000269  \n",
              "9         0.391304    0.074468        0.072581  0.025672  0.000269  \n",
              "10        0.455696    0.228723        0.290323 -0.238479  0.031753  \n",
              "11        0.415584    0.239362        0.258065 -0.075234  0.031753  \n",
              "12        0.375000    0.265957        0.241935  0.094665  0.031753  \n",
              "13        0.342105    0.265957        0.209677  0.237766  0.031753  "
            ]
          },
          "metadata": {
            "tags": []
          },
          "execution_count": 56
        }
      ]
    },
    {
      "cell_type": "markdown",
      "metadata": {
        "id": "fMSSazrNlj42",
        "colab_type": "text"
      },
      "source": [
        "### IV"
      ]
    },
    {
      "cell_type": "code",
      "metadata": {
        "id": "upM079vilko1",
        "colab_type": "code",
        "outputId": "f73f285c-562c-4900-b38d-f9c22c76fd6e",
        "colab": {
          "base_uri": "https://localhost:8080/",
          "height": 51
        }
      },
      "source": [
        "df = ABT_df\n",
        "print('Spliting the dataframe into features and labels\\n')\n",
        "features = df[df.columns.difference(['target'])]\n",
        "labels = df['target']"
      ],
      "execution_count": 57,
      "outputs": [
        {
          "output_type": "stream",
          "text": [
            "Spliting the dataframe into features and labels\n",
            "\n"
          ],
          "name": "stdout"
        }
      ]
    },
    {
      "cell_type": "code",
      "metadata": {
        "id": "IGyzB2FdluHk",
        "colab_type": "code",
        "outputId": "77c5ee39-21b8-496f-9185-18b3c9b41a83",
        "colab": {
          "base_uri": "https://localhost:8080/",
          "height": 221
        }
      },
      "source": [
        "final_iv, IV = data_vars(df[df.columns.difference(['target'])],df.target,max_bin)\n",
        "IV = IV.rename(columns={'VAR_NAME':'index'})\n",
        "print('----\\n|IV|\\n----\\n{}'.format(IV.sort_values(['IV'],ascending=0)))"
      ],
      "execution_count": 58,
      "outputs": [
        {
          "output_type": "display_data",
          "data": {
            "text/html": [
              "\n",
              "        <progress\n",
              "            value='100'\n",
              "            max='100',\n",
              "            style='width: 100%'\n",
              "        >\n",
              "            100\n",
              "        </progress>\n",
              "    "
            ],
            "text/plain": [
              "<IPython.core.display.HTML object>"
            ]
          },
          "metadata": {
            "tags": []
          }
        },
        {
          "output_type": "stream",
          "text": [
            "/usr/local/lib/python3.6/dist-packages/pandas/core/series.py:856: RuntimeWarning: divide by zero encountered in log\n",
            "  result = getattr(ufunc, method)(*inputs, **kwargs)\n"
          ],
          "name": "stderr"
        },
        {
          "output_type": "stream",
          "text": [
            "----\n",
            "|IV|\n",
            "----\n",
            "               index        IV\n",
            "4    UmidadeRelativa  0.031753\n",
            "1      TempBulboSeco  0.024187\n",
            "0  PressaoAtmEstacao  0.021343\n",
            "2   TempBulboUmido_B  0.000262\n",
            "3  TempBulboUmido_NA  0.000052\n"
          ],
          "name": "stdout"
        }
      ]
    },
    {
      "cell_type": "markdown",
      "metadata": {
        "id": "6fHtokC2mm8j",
        "colab_type": "text"
      },
      "source": [
        "### Random Forest"
      ]
    },
    {
      "cell_type": "code",
      "metadata": {
        "id": "uaU3hKOFmqXP",
        "colab_type": "code",
        "outputId": "858da285-354e-43aa-a761-21762260b6a5",
        "colab": {
          "base_uri": "https://localhost:8080/",
          "height": 187
        }
      },
      "source": [
        "clf = RandomForestClassifier(n_estimators=nEstimatorsRF)\n",
        "clf.fit(features,labels)   \n",
        "preds = clf.predict(features)    \n",
        "accuracy = accuracy_score(preds,labels)\n",
        "print('\\n\\n\\nRandon Forest - n_estimators: {} - Accuracy: {}'.format(nEstimatorsRF,accuracy))\n",
        "VI = DataFrame(clf.feature_importances_, columns = [\"RF\"], index=features.columns)\n",
        "VI = VI.reset_index()\n",
        "print(VI.sort_values(['RF'],ascending=0))"
      ],
      "execution_count": 59,
      "outputs": [
        {
          "output_type": "stream",
          "text": [
            "\n",
            "\n",
            "\n",
            "Randon Forest - n_estimators: 100 - Accuracy: 1.0\n",
            "               index        RF\n",
            "0  PressaoAtmEstacao  0.340247\n",
            "1      TempBulboSeco  0.330876\n",
            "4    UmidadeRelativa  0.306815\n",
            "3  TempBulboUmido_NA  0.017339\n",
            "2   TempBulboUmido_B  0.004724\n"
          ],
          "name": "stdout"
        }
      ]
    },
    {
      "cell_type": "markdown",
      "metadata": {
        "id": "URA21pQRmzxk",
        "colab_type": "text"
      },
      "source": [
        "### ExtraTrees"
      ]
    },
    {
      "cell_type": "code",
      "metadata": {
        "id": "rcfJ3_D8m21N",
        "colab_type": "code",
        "outputId": "30c47d69-6283-4fd7-fbb8-fdcef437a526",
        "colab": {
          "base_uri": "https://localhost:8080/",
          "height": 187
        }
      },
      "source": [
        "model = ExtraTreesClassifier(n_estimators=nEstimatorsETC)\n",
        "model.fit(features, labels)\n",
        "FI = DataFrame(model.feature_importances_, columns = [\"Extratrees\"], index=features.columns)\n",
        "FI = FI.reset_index()\n",
        "print('\\n\\n\\nExtra Trees Classifier - n_estimators: {}'.format(nEstimatorsETC))\n",
        "print(FI.sort_values(['Extratrees'],ascending=0))"
      ],
      "execution_count": 60,
      "outputs": [
        {
          "output_type": "stream",
          "text": [
            "\n",
            "\n",
            "\n",
            "Extra Trees Classifier - n_estimators: 100\n",
            "               index  Extratrees\n",
            "1      TempBulboSeco    0.344521\n",
            "0  PressaoAtmEstacao    0.326507\n",
            "4    UmidadeRelativa    0.302588\n",
            "3  TempBulboUmido_NA    0.017510\n",
            "2   TempBulboUmido_B    0.008873\n"
          ],
          "name": "stdout"
        }
      ]
    },
    {
      "cell_type": "markdown",
      "metadata": {
        "id": "YvvPDfNxm6pW",
        "colab_type": "text"
      },
      "source": [
        "### Chi Square"
      ]
    },
    {
      "cell_type": "code",
      "metadata": {
        "id": "5u8zFZbjm9W5",
        "colab_type": "code",
        "outputId": "a258b14a-208b-4412-a7bc-b7b018de2318",
        "colab": {
          "base_uri": "https://localhost:8080/",
          "height": 187
        }
      },
      "source": [
        "model = SelectKBest(score_func=chi2, k=kChiSq)\n",
        "fit = model.fit(features.abs(), labels)\n",
        "pd.options.display.float_format = '{:.2f}'.format\n",
        "chi_sq = DataFrame(fit.scores_, columns = [\"Chi_Square\"], index=features.columns)\n",
        "chi_sq = chi_sq.reset_index()\n",
        "print('\\n\\n\\nChi Square - k: {}'.format(kChiSq))  \n",
        "print(chi_sq.sort_values('Chi_Square',ascending=0))"
      ],
      "execution_count": 61,
      "outputs": [
        {
          "output_type": "stream",
          "text": [
            "\n",
            "\n",
            "\n",
            "Chi Square - k: all\n",
            "               index  Chi_Square\n",
            "2   TempBulboUmido_B        3.03\n",
            "4    UmidadeRelativa        0.70\n",
            "1      TempBulboSeco        0.04\n",
            "3  TempBulboUmido_NA        0.00\n",
            "0  PressaoAtmEstacao        0.00\n"
          ],
          "name": "stdout"
        }
      ]
    },
    {
      "cell_type": "markdown",
      "metadata": {
        "id": "bZjK3e3PnBQT",
        "colab_type": "text"
      },
      "source": [
        "### Linear SVC L1"
      ]
    },
    {
      "cell_type": "code",
      "metadata": {
        "id": "etLWjNYYnEju",
        "colab_type": "code",
        "outputId": "1b67d6c6-062f-4316-c946-1009c2a52d83",
        "colab": {
          "base_uri": "https://localhost:8080/",
          "height": 136
        }
      },
      "source": [
        "lsvc = LinearSVC(C=0.01, penalty=\"l1\", dual=False, max_iter=maxIterL1).fit(features, labels)\n",
        "model = SelectFromModel(lsvc,prefit=True)\n",
        "l1 = DataFrame(model.get_support(), columns = [\"L1\"], index=features.columns)\n",
        "l1 = l1.reset_index()\n",
        "print('\\n\\n\\nL1 - max_iter: {}'.format(maxIterL1))  \n",
        "print(l1[l1['L1'] == True])"
      ],
      "execution_count": 62,
      "outputs": [
        {
          "output_type": "stream",
          "text": [
            "\n",
            "\n",
            "\n",
            "L1 - max_iter: 100\n",
            "Empty DataFrame\n",
            "Columns: [index, L1]\n",
            "Index: []\n"
          ],
          "name": "stdout"
        }
      ]
    },
    {
      "cell_type": "markdown",
      "metadata": {
        "id": "MUH2OpZ-nIsR",
        "colab_type": "text"
      },
      "source": [
        "### Recursive Feature Elimination RFE"
      ]
    },
    {
      "cell_type": "code",
      "metadata": {
        "id": "3yEei97XnLWw",
        "colab_type": "code",
        "outputId": "e71bc4b7-d5e3-4481-e01f-bce76fd55c78",
        "colab": {
          "base_uri": "https://localhost:8080/",
          "height": 187
        }
      },
      "source": [
        "model = LogisticRegression(solver='lbfgs',max_iter=maxIterRFE)\n",
        "rfe = RFE(model, 20)\n",
        "fit = rfe.fit(features, labels)\n",
        "Selected = DataFrame(rfe.support_, columns = [\"RFE\"], index=features.columns)\n",
        "Selected = Selected.reset_index()\n",
        "print('\\n\\n\\nRecursive Feature Elimination - max_iter: {}'.format(maxIterRFE))\n",
        "print(Selected[Selected['RFE'] == True])"
      ],
      "execution_count": 63,
      "outputs": [
        {
          "output_type": "stream",
          "text": [
            "\n",
            "\n",
            "\n",
            "Recursive Feature Elimination - max_iter: 50\n",
            "               index   RFE\n",
            "0  PressaoAtmEstacao  True\n",
            "1      TempBulboSeco  True\n",
            "2   TempBulboUmido_B  True\n",
            "3  TempBulboUmido_NA  True\n",
            "4    UmidadeRelativa  True\n"
          ],
          "name": "stdout"
        }
      ]
    },
    {
      "cell_type": "markdown",
      "metadata": {
        "id": "L8XDFqP4nR82",
        "colab_type": "text"
      },
      "source": [
        "### Combining"
      ]
    },
    {
      "cell_type": "code",
      "metadata": {
        "id": "Xb4NwCGBnTnE",
        "colab_type": "code",
        "outputId": "e4225a11-6c85-4a6a-f1d1-723068881131",
        "colab": {
          "base_uri": "https://localhost:8080/",
          "height": 187
        }
      },
      "source": [
        "dfs = [IV, VI, Selected, FI, chi_sq, l1]\n",
        "final_results = reduce(lambda left,right: pd.merge(left,right,on='index'), dfs)\n",
        "columns = ['IV', 'RF', 'Extratrees', 'Chi_Square']\n",
        "score_table = pd.DataFrame({},[])\n",
        "score_table['index'] = final_results['index'] \n",
        "for i in columns:\n",
        "    score_table[i] = final_results['index'].isin(list(final_results.nlargest(5,i)['index'])).astype(int)     \n",
        "score_table['RFE'] = final_results['RFE'].astype(int)\n",
        "score_table['L1'] = final_results['L1'].astype(int)\n",
        "score_table['final_score'] = score_table.sum(axis=1)\n",
        "print('\\n\\n\\nScore Table')\n",
        "print(score_table.sort_values('final_score',ascending=0))"
      ],
      "execution_count": 64,
      "outputs": [
        {
          "output_type": "stream",
          "text": [
            "\n",
            "\n",
            "\n",
            "Score Table\n",
            "               index  IV  RF  Extratrees  Chi_Square  RFE  L1  final_score\n",
            "0  PressaoAtmEstacao   1   1           1           1    1   0            5\n",
            "1      TempBulboSeco   1   1           1           1    1   0            5\n",
            "2   TempBulboUmido_B   1   1           1           1    1   0            5\n",
            "3  TempBulboUmido_NA   1   1           1           1    1   0            5\n",
            "4    UmidadeRelativa   1   1           1           1    1   0            5\n"
          ],
          "name": "stdout"
        }
      ]
    },
    {
      "cell_type": "code",
      "metadata": {
        "id": "qA9FSM-dntyB",
        "colab_type": "code",
        "outputId": "fec125de-87e3-429e-c0de-c21bd929708a",
        "colab": {
          "base_uri": "https://localhost:8080/",
          "height": 51
        }
      },
      "source": [
        "print('Min VAR Score: {}'.format(minVarScore))\n",
        "features_selected = features[list(score_table[score_table['final_score'] >= minVarScore]['index'])]\n",
        "features_selected.shape"
      ],
      "execution_count": 65,
      "outputs": [
        {
          "output_type": "stream",
          "text": [
            "Min VAR Score: 2\n"
          ],
          "name": "stdout"
        },
        {
          "output_type": "execute_result",
          "data": {
            "text/plain": [
              "(312, 5)"
            ]
          },
          "metadata": {
            "tags": []
          },
          "execution_count": 65
        }
      ]
    },
    {
      "cell_type": "markdown",
      "metadata": {
        "id": "QDgNQ2wxna-F",
        "colab_type": "text"
      },
      "source": [
        "### Multicolinearity"
      ]
    },
    {
      "cell_type": "code",
      "metadata": {
        "id": "mcQTwMYfojY6",
        "colab_type": "code",
        "colab": {}
      },
      "source": [
        "final_features = features_selected"
      ],
      "execution_count": 0,
      "outputs": []
    },
    {
      "cell_type": "code",
      "metadata": {
        "id": "ofGTnoXxndqH",
        "colab_type": "code",
        "outputId": "8ac679c5-b054-4a55-f251-ca82b1fb55d4",
        "colab": {
          "base_uri": "https://localhost:8080/",
          "height": 85
        }
      },
      "source": [
        "vif = calculate_vif(features)\n",
        "if maxVarianceInflationFactor > 0:\n",
        "    while vif['VIF'][vif['VIF'] > maxVarianceInflationFactor].any():\n",
        "        remove = vif.sort_values('VIF',ascending=0)['Features'][:1]\n",
        "        features.drop(remove,axis=1,inplace=True)\n",
        "        vif = calculate_vif(features)\n",
        "print('\\n\\n\\nMulticollinearity - minVarScore: {} - maxVarianceInflationFactor: {}'.format(minVarScore,maxVarianceInflationFactor))"
      ],
      "execution_count": 67,
      "outputs": [
        {
          "output_type": "stream",
          "text": [
            "\n",
            "\n",
            "\n",
            "Multicollinearity - minVarScore: 2 - maxVarianceInflationFactor: 5\n"
          ],
          "name": "stdout"
        }
      ]
    },
    {
      "cell_type": "markdown",
      "metadata": {
        "id": "BS5xUreZoYbR",
        "colab_type": "text"
      },
      "source": [
        "### Final Vars"
      ]
    },
    {
      "cell_type": "code",
      "metadata": {
        "id": "DuzHWQrpoqAt",
        "colab_type": "code",
        "outputId": "6cb60cf7-1cae-40d6-c29f-dc3f053d70e2",
        "colab": {
          "base_uri": "https://localhost:8080/",
          "height": 34
        }
      },
      "source": [
        "final_features.shape"
      ],
      "execution_count": 68,
      "outputs": [
        {
          "output_type": "execute_result",
          "data": {
            "text/plain": [
              "(312, 5)"
            ]
          },
          "metadata": {
            "tags": []
          },
          "execution_count": 68
        }
      ]
    },
    {
      "cell_type": "code",
      "metadata": {
        "id": "j5D2WINGot1X",
        "colab_type": "code",
        "outputId": "03ead499-a929-496f-9153-103e9854a280",
        "colab": {
          "base_uri": "https://localhost:8080/",
          "height": 340
        }
      },
      "source": [
        "final_vars = list(vif['Features']) + ['target']\n",
        "dfModel = df[final_vars]\n",
        "print(dfModel.describe())"
      ],
      "execution_count": 69,
      "outputs": [
        {
          "output_type": "stream",
          "text": [
            "       PressaoAtmEstacao  TempBulboSeco  TempBulboUmido_B  TempBulboUmido_NA  \\\n",
            "count             312.00         312.00            312.00             312.00   \n",
            "mean               -0.00           0.00              0.01               0.07   \n",
            "std                 1.00           1.00              0.08               0.26   \n",
            "min                -2.29          -2.71              0.00               0.00   \n",
            "25%                -0.68          -0.70              0.00               0.00   \n",
            "50%                -0.10          -0.01              0.00               0.00   \n",
            "75%                 0.57           0.70              0.00               0.00   \n",
            "max                 3.09           2.38              1.00               1.00   \n",
            "\n",
            "       UmidadeRelativa  target  \n",
            "count           312.00  312.00  \n",
            "mean             -0.00    0.60  \n",
            "std               1.00    0.49  \n",
            "min              -2.32    0.00  \n",
            "25%              -0.86    0.00  \n",
            "50%               0.06    1.00  \n",
            "75%               0.76    1.00  \n",
            "max               2.10    1.00  \n"
          ],
          "name": "stdout"
        }
      ]
    },
    {
      "cell_type": "code",
      "metadata": {
        "id": "msw-8Bo8o-ht",
        "colab_type": "code",
        "outputId": "8c749c79-acb9-4d9b-ea2d-4b16e5c124fc",
        "colab": {
          "base_uri": "https://localhost:8080/",
          "height": 34
        }
      },
      "source": [
        "campos = WOE_df.columns\n",
        "colunas = []\n",
        "for column in features_selected:\n",
        "  if column in list(df_dummies.columns):\n",
        "    colunas.append(column.rsplit('_',1)[0])\n",
        "  else:\n",
        "    colunas.append(column)\n",
        "colunas_finais_brutas = np.unique(np.array(colunas)).tolist()\n",
        "len(colunas_finais_brutas)"
      ],
      "execution_count": 70,
      "outputs": [
        {
          "output_type": "execute_result",
          "data": {
            "text/plain": [
              "4"
            ]
          },
          "metadata": {
            "tags": []
          },
          "execution_count": 70
        }
      ]
    },
    {
      "cell_type": "code",
      "metadata": {
        "id": "wJyzKurOpiYA",
        "colab_type": "code",
        "outputId": "8962b143-aaa5-4bd5-b400-c77fc3aa3813",
        "colab": {
          "base_uri": "https://localhost:8080/",
          "height": 34
        }
      },
      "source": [
        "print(colunas_finais_brutas)"
      ],
      "execution_count": 71,
      "outputs": [
        {
          "output_type": "stream",
          "text": [
            "['PressaoAtmEstacao', 'TempBulboSeco', 'TempBulboUmido', 'UmidadeRelativa']\n"
          ],
          "name": "stdout"
        }
      ]
    },
    {
      "cell_type": "markdown",
      "metadata": {
        "id": "4acT9ukqpqgQ",
        "colab_type": "text"
      },
      "source": [
        "#### Separation by treatment"
      ]
    },
    {
      "cell_type": "code",
      "metadata": {
        "id": "5iW_88H0ptqd",
        "colab_type": "code",
        "colab": {}
      },
      "source": [
        "colunas_fill_zero = []\n",
        "colunas_discretizer = []\n",
        "colunas_manuais = []\n",
        "colunas_encoder = []\n",
        "colunas_cat = []\n",
        "for column in colunas_finais_brutas:\n",
        "  if column in filter_numeric:\n",
        "    colunas_fill_zero.append(column)\n",
        "  elif column in filter_discretizer:\n",
        "    colunas_discretizer.append(column)\n",
        "  elif column in vars_manual:\n",
        "    colunas_manuais.append(column)\n",
        "  elif column in vars_encoder:\n",
        "    colunas_encoder.append(column)\n",
        "  else:\n",
        "    colunas_cat.append(column)"
      ],
      "execution_count": 0,
      "outputs": []
    },
    {
      "cell_type": "code",
      "metadata": {
        "id": "V9EmvE1Hqmad",
        "colab_type": "code",
        "outputId": "94f2d047-c01b-4ee9-fe86-80823b8a0082",
        "colab": {
          "base_uri": "https://localhost:8080/",
          "height": 34
        }
      },
      "source": [
        "colunas_finais_abertas = list(features_selected.columns)\n",
        "len(colunas_finais_abertas)"
      ],
      "execution_count": 73,
      "outputs": [
        {
          "output_type": "execute_result",
          "data": {
            "text/plain": [
              "5"
            ]
          },
          "metadata": {
            "tags": []
          },
          "execution_count": 73
        }
      ]
    },
    {
      "cell_type": "code",
      "metadata": {
        "id": "60lPZlQpqzTs",
        "colab_type": "code",
        "outputId": "32945431-772d-4e3d-ad8f-36f42ed73940",
        "colab": {
          "base_uri": "https://localhost:8080/",
          "height": 34
        }
      },
      "source": [
        "print(colunas_finais_abertas)"
      ],
      "execution_count": 74,
      "outputs": [
        {
          "output_type": "stream",
          "text": [
            "['PressaoAtmEstacao', 'TempBulboSeco', 'TempBulboUmido_B', 'TempBulboUmido_NA', 'UmidadeRelativa']\n"
          ],
          "name": "stdout"
        }
      ]
    },
    {
      "cell_type": "code",
      "metadata": {
        "id": "ECRw2Wwiq3wU",
        "colab_type": "code",
        "colab": {}
      },
      "source": [
        "colunas_ABT = colunas_finais_abertas.copy()\n",
        "colunas_ABT.append('target')"
      ],
      "execution_count": 0,
      "outputs": []
    },
    {
      "cell_type": "code",
      "metadata": {
        "id": "manhRCSUrAUm",
        "colab_type": "code",
        "colab": {}
      },
      "source": [
        "exports.append(colunas_finais_brutas)\n",
        "exports.append(colunas_finais_abertas)\n",
        "exports.append(colunas_fill_zero)\n",
        "exports.append(colunas_discretizer)\n",
        "exports.append(colunas_manuais)\n",
        "exports.append(colunas_encoder)\n",
        "exports.append(colunas_cat)"
      ],
      "execution_count": 0,
      "outputs": []
    },
    {
      "cell_type": "markdown",
      "metadata": {
        "id": "on4IEUxVrSRX",
        "colab_type": "text"
      },
      "source": [
        "## Model Selection"
      ]
    },
    {
      "cell_type": "code",
      "metadata": {
        "id": "f_17g3SfrU1p",
        "colab_type": "code",
        "outputId": "15e963da-9ec1-4df4-f81d-d862afd0b511",
        "colab": {
          "base_uri": "https://localhost:8080/",
          "height": 34
        }
      },
      "source": [
        "dfABT_Model = ABT_df[colunas_ABT]\n",
        "dfABT_Model.shape"
      ],
      "execution_count": 77,
      "outputs": [
        {
          "output_type": "execute_result",
          "data": {
            "text/plain": [
              "(312, 6)"
            ]
          },
          "metadata": {
            "tags": []
          },
          "execution_count": 77
        }
      ]
    },
    {
      "cell_type": "code",
      "metadata": {
        "id": "TG9J8ykbros3",
        "colab_type": "code",
        "outputId": "3a14ea9d-e82a-4a53-f9d3-885390c83a09",
        "colab": {
          "base_uri": "https://localhost:8080/",
          "height": 34
        }
      },
      "source": [
        "print('Spliting the dataframe into train and test - test_size: {}'.format(testSize))\n",
        "train, test = train_test_split(dfABT_Model, test_size = testSize, random_state=666)\n",
        "train = train.reset_index(drop=True)\n",
        "test = test.reset_index(drop=True)\n",
        "\n",
        "fTrain = train[colunas_finais_abertas]\n",
        "lTrain = train['target']\n",
        "fTest = test[colunas_finais_abertas]\n",
        "lTest = test['target']"
      ],
      "execution_count": 78,
      "outputs": [
        {
          "output_type": "stream",
          "text": [
            "Spliting the dataframe into train and test - test_size: 0.3\n"
          ],
          "name": "stdout"
        }
      ]
    },
    {
      "cell_type": "code",
      "metadata": {
        "id": "SjIZ99jltDV0",
        "colab_type": "code",
        "outputId": "eca48710-ce51-449d-a983-2118f3c19568",
        "colab": {
          "base_uri": "https://localhost:8080/",
          "height": 1000
        }
      },
      "source": [
        "clfLR, scores_train, scores_test, lift_train, lift_test = runModel('LR',fTrain,lTrain,fTest,lTest) #LogisticRegression\n",
        "printCharts(scores_train,scores_test,lift_train,lift_test)"
      ],
      "execution_count": 79,
      "outputs": [
        {
          "output_type": "stream",
          "text": [
            "Logistic Regression\n",
            "accuracy_train: 0.6100917431192661\n",
            "accuracy_test: 0.6170212765957447\n",
            "auc_train: 0.6013111888111887\n",
            "auc_test: 0.5316091954022989\n",
            "\n",
            "\n",
            "\n",
            "Assertivity - Train\n",
            "\n",
            "PRED     0    1\n",
            "ACTUAL         \n",
            "0       12   76\n",
            "1        9  121\n",
            "\n",
            "\n",
            "\n",
            "Assertivity - Test\n",
            "\n",
            "PRED    0   1\n",
            "ACTUAL       \n",
            "0       4  32\n",
            "1       4  54\n",
            "<IPython.core.display.HTML object>\n",
            "<IPython.core.display.HTML object>\n"
          ],
          "name": "stdout"
        },
        {
          "output_type": "stream",
          "text": [
            "/usr/local/lib/python3.6/dist-packages/ipykernel_launcher.py:28: FutureWarning: `item` has been deprecated and will be removed in a future version\n",
            "/usr/local/lib/python3.6/dist-packages/ipykernel_launcher.py:29: FutureWarning: `item` has been deprecated and will be removed in a future version\n",
            "/usr/local/lib/python3.6/dist-packages/ipykernel_launcher.py:30: FutureWarning: `item` has been deprecated and will be removed in a future version\n",
            "/usr/local/lib/python3.6/dist-packages/ipykernel_launcher.py:31: FutureWarning: `item` has been deprecated and will be removed in a future version\n",
            "/usr/local/lib/python3.6/dist-packages/ipykernel_launcher.py:5: MatplotlibDeprecationWarning: Adding an axes using the same arguments as a previous axes currently reuses the earlier instance.  In a future version, a new instance will always be created and returned.  Meanwhile, this warning can be suppressed, and the future behavior ensured, by passing a unique label to each axes instance.\n",
            "  \"\"\"\n",
            "/usr/local/lib/python3.6/dist-packages/ipykernel_launcher.py:15: MatplotlibDeprecationWarning: Adding an axes using the same arguments as a previous axes currently reuses the earlier instance.  In a future version, a new instance will always be created and returned.  Meanwhile, this warning can be suppressed, and the future behavior ensured, by passing a unique label to each axes instance.\n",
            "  from ipykernel import kernelapp as app\n",
            "/usr/local/lib/python3.6/dist-packages/ipykernel_launcher.py:28: FutureWarning: `item` has been deprecated and will be removed in a future version\n",
            "/usr/local/lib/python3.6/dist-packages/ipykernel_launcher.py:29: FutureWarning: `item` has been deprecated and will be removed in a future version\n",
            "/usr/local/lib/python3.6/dist-packages/ipykernel_launcher.py:30: FutureWarning: `item` has been deprecated and will be removed in a future version\n",
            "/usr/local/lib/python3.6/dist-packages/ipykernel_launcher.py:31: FutureWarning: `item` has been deprecated and will be removed in a future version\n",
            "/usr/local/lib/python3.6/dist-packages/ipykernel_launcher.py:33: MatplotlibDeprecationWarning: Adding an axes using the same arguments as a previous axes currently reuses the earlier instance.  In a future version, a new instance will always be created and returned.  Meanwhile, this warning can be suppressed, and the future behavior ensured, by passing a unique label to each axes instance.\n"
          ],
          "name": "stderr"
        },
        {
          "output_type": "stream",
          "text": [
            "None\n",
            "None\n"
          ],
          "name": "stdout"
        },
        {
          "output_type": "display_data",
          "data": {
            "image/png": "[encoded data removed]",
            "text/plain": [
              "<Figure size 1440x360 with 3 Axes>"
            ]
          },
          "metadata": {
            "tags": []
          }
        }
      ]
    },
    {
      "cell_type": "code",
      "metadata": {
        "id": "Hmy_12lxs8Uh",
        "colab_type": "code",
        "outputId": "9a53dade-fea1-462f-df7d-c000321fcbe3",
        "colab": {
          "base_uri": "https://localhost:8080/",
          "height": 1000
        }
      },
      "source": [
        "clfRF, scores_train, scores_test, lift_train, lift_test = runModel('RF',fTrain,lTrain,fTest,lTest) #RandomForest\n",
        "printCharts(scores_train,scores_test,lift_train,lift_test)"
      ],
      "execution_count": 80,
      "outputs": [
        {
          "output_type": "stream",
          "text": [
            "Random Forest Classifier - n_estimators: 100\n",
            "accuracy_train: 1.0\n",
            "accuracy_test: 0.48936170212765956\n",
            "auc_train: 1.0\n",
            "auc_test: 0.40708812260536403\n",
            "\n",
            "\n",
            "\n",
            "Assertivity - Train\n",
            "\n",
            "PRED     0    1\n",
            "ACTUAL         \n",
            "0       88    0\n",
            "1        0  130\n",
            "\n",
            "\n",
            "\n",
            "Assertivity - Test\n",
            "\n",
            "PRED     0   1\n",
            "ACTUAL        \n",
            "0       13  23\n",
            "1       25  33\n",
            "<IPython.core.display.HTML object>\n",
            "<IPython.core.display.HTML object>\n"
          ],
          "name": "stdout"
        },
        {
          "output_type": "stream",
          "text": [
            "/usr/local/lib/python3.6/dist-packages/ipykernel_launcher.py:28: FutureWarning: `item` has been deprecated and will be removed in a future version\n",
            "/usr/local/lib/python3.6/dist-packages/ipykernel_launcher.py:29: FutureWarning: `item` has been deprecated and will be removed in a future version\n",
            "/usr/local/lib/python3.6/dist-packages/ipykernel_launcher.py:30: FutureWarning: `item` has been deprecated and will be removed in a future version\n",
            "/usr/local/lib/python3.6/dist-packages/ipykernel_launcher.py:31: FutureWarning: `item` has been deprecated and will be removed in a future version\n",
            "/usr/local/lib/python3.6/dist-packages/ipykernel_launcher.py:5: MatplotlibDeprecationWarning: Adding an axes using the same arguments as a previous axes currently reuses the earlier instance.  In a future version, a new instance will always be created and returned.  Meanwhile, this warning can be suppressed, and the future behavior ensured, by passing a unique label to each axes instance.\n",
            "  \"\"\"\n",
            "/usr/local/lib/python3.6/dist-packages/ipykernel_launcher.py:15: MatplotlibDeprecationWarning: Adding an axes using the same arguments as a previous axes currently reuses the earlier instance.  In a future version, a new instance will always be created and returned.  Meanwhile, this warning can be suppressed, and the future behavior ensured, by passing a unique label to each axes instance.\n",
            "  from ipykernel import kernelapp as app\n",
            "/usr/local/lib/python3.6/dist-packages/ipykernel_launcher.py:28: FutureWarning: `item` has been deprecated and will be removed in a future version\n",
            "/usr/local/lib/python3.6/dist-packages/ipykernel_launcher.py:29: FutureWarning: `item` has been deprecated and will be removed in a future version\n",
            "/usr/local/lib/python3.6/dist-packages/ipykernel_launcher.py:30: FutureWarning: `item` has been deprecated and will be removed in a future version\n",
            "/usr/local/lib/python3.6/dist-packages/ipykernel_launcher.py:31: FutureWarning: `item` has been deprecated and will be removed in a future version\n",
            "/usr/local/lib/python3.6/dist-packages/ipykernel_launcher.py:33: MatplotlibDeprecationWarning: Adding an axes using the same arguments as a previous axes currently reuses the earlier instance.  In a future version, a new instance will always be created and returned.  Meanwhile, this warning can be suppressed, and the future behavior ensured, by passing a unique label to each axes instance.\n"
          ],
          "name": "stderr"
        },
        {
          "output_type": "stream",
          "text": [
            "None\n",
            "None\n"
          ],
          "name": "stdout"
        },
        {
          "output_type": "display_data",
          "data": {
            "image/png": "[encoded data removed]",
            "text/plain": [
              "<Figure size 1440x360 with 3 Axes>"
            ]
          },
          "metadata": {
            "tags": []
          }
        }
      ]
    },
    {
      "cell_type": "code",
      "metadata": {
        "id": "ThfrMf7utGkF",
        "colab_type": "code",
        "outputId": "2c15a5b2-297f-4e0d-9379-a08a2d57ff07",
        "colab": {
          "base_uri": "https://localhost:8080/",
          "height": 1000
        }
      },
      "source": [
        "clfGB, scores_train, scores_test, lift_train, lift_test = runModel('GB',fTrain,lTrain,fTest,lTest) #GradientBoost\n",
        "printCharts(scores_train,scores_test,lift_train,lift_test)"
      ],
      "execution_count": 81,
      "outputs": [
        {
          "output_type": "stream",
          "text": [
            "Gradient Boost\n",
            "accuracy_train: 0.9174311926605505\n",
            "accuracy_test: 0.46808510638297873\n",
            "auc_train: 0.9901223776223776\n",
            "auc_test: 0.45162835249042144\n",
            "\n",
            "\n",
            "\n",
            "Assertivity - Train\n",
            "\n",
            "PRED     0    1\n",
            "ACTUAL         \n",
            "0       73   15\n",
            "1        3  127\n",
            "\n",
            "\n",
            "\n",
            "Assertivity - Test\n",
            "\n",
            "PRED     0   1\n",
            "ACTUAL        \n",
            "0       12  24\n",
            "1       26  32\n",
            "<IPython.core.display.HTML object>\n",
            "<IPython.core.display.HTML object>\n"
          ],
          "name": "stdout"
        },
        {
          "output_type": "stream",
          "text": [
            "/usr/local/lib/python3.6/dist-packages/ipykernel_launcher.py:28: FutureWarning: `item` has been deprecated and will be removed in a future version\n",
            "/usr/local/lib/python3.6/dist-packages/ipykernel_launcher.py:29: FutureWarning: `item` has been deprecated and will be removed in a future version\n",
            "/usr/local/lib/python3.6/dist-packages/ipykernel_launcher.py:30: FutureWarning: `item` has been deprecated and will be removed in a future version\n",
            "/usr/local/lib/python3.6/dist-packages/ipykernel_launcher.py:31: FutureWarning: `item` has been deprecated and will be removed in a future version\n",
            "/usr/local/lib/python3.6/dist-packages/ipykernel_launcher.py:5: MatplotlibDeprecationWarning: Adding an axes using the same arguments as a previous axes currently reuses the earlier instance.  In a future version, a new instance will always be created and returned.  Meanwhile, this warning can be suppressed, and the future behavior ensured, by passing a unique label to each axes instance.\n",
            "  \"\"\"\n",
            "/usr/local/lib/python3.6/dist-packages/ipykernel_launcher.py:15: MatplotlibDeprecationWarning: Adding an axes using the same arguments as a previous axes currently reuses the earlier instance.  In a future version, a new instance will always be created and returned.  Meanwhile, this warning can be suppressed, and the future behavior ensured, by passing a unique label to each axes instance.\n",
            "  from ipykernel import kernelapp as app\n",
            "/usr/local/lib/python3.6/dist-packages/ipykernel_launcher.py:28: FutureWarning: `item` has been deprecated and will be removed in a future version\n",
            "/usr/local/lib/python3.6/dist-packages/ipykernel_launcher.py:29: FutureWarning: `item` has been deprecated and will be removed in a future version\n",
            "/usr/local/lib/python3.6/dist-packages/ipykernel_launcher.py:30: FutureWarning: `item` has been deprecated and will be removed in a future version\n",
            "/usr/local/lib/python3.6/dist-packages/ipykernel_launcher.py:31: FutureWarning: `item` has been deprecated and will be removed in a future version\n",
            "/usr/local/lib/python3.6/dist-packages/ipykernel_launcher.py:33: MatplotlibDeprecationWarning: Adding an axes using the same arguments as a previous axes currently reuses the earlier instance.  In a future version, a new instance will always be created and returned.  Meanwhile, this warning can be suppressed, and the future behavior ensured, by passing a unique label to each axes instance.\n"
          ],
          "name": "stderr"
        },
        {
          "output_type": "stream",
          "text": [
            "None\n",
            "None\n"
          ],
          "name": "stdout"
        },
        {
          "output_type": "display_data",
          "data": {
            "image/png": "[encoded data removed]",
            "text/plain": [
              "<Figure size 1440x360 with 3 Axes>"
            ]
          },
          "metadata": {
            "tags": []
          }
        }
      ]
    },
    {
      "cell_type": "code",
      "metadata": {
        "id": "LrRobb-qtNrD",
        "colab_type": "code",
        "outputId": "6c36c410-6a9e-43ab-b45a-bef507f33cc0",
        "colab": {
          "base_uri": "https://localhost:8080/",
          "height": 1000
        }
      },
      "source": [
        "clfRFHP, scores_train, scores_test, lift_train, lift_test = runModel('RFHP',fTrain,lTrain,fTest,lTest) #RandomForestHyperParameter\n",
        "printCharts(scores_train,scores_test,lift_train,lift_test)"
      ],
      "execution_count": 82,
      "outputs": [
        {
          "output_type": "stream",
          "text": [
            "Random Forest - Hyper Parameter Tuning\n",
            "Fitting 2 folds for each of 10 candidates, totalling 20 fits\n"
          ],
          "name": "stdout"
        },
        {
          "output_type": "stream",
          "text": [
            "[Parallel(n_jobs=-1)]: Using backend LokyBackend with 2 concurrent workers.\n",
            "[Parallel(n_jobs=-1)]: Done  20 out of  20 | elapsed:    5.9s finished\n"
          ],
          "name": "stderr"
        },
        {
          "output_type": "stream",
          "text": [
            "{'n_estimators': 227, 'min_samples_split': 10, 'min_samples_leaf': 2, 'max_features': 'auto', 'max_depth': 3, 'bootstrap': True}\n",
            "accuracy_train: 0.7247706422018348\n",
            "accuracy_test: 0.6276595744680851\n",
            "auc_train: 0.7942307692307693\n",
            "auc_test: 0.5167624521072797\n",
            "\n",
            "\n",
            "\n",
            "Assertivity - Train\n",
            "\n",
            "PRED     0    1\n",
            "ACTUAL         \n",
            "0       33   55\n",
            "1        5  125\n",
            "\n",
            "\n",
            "\n",
            "Assertivity - Test\n",
            "\n",
            "PRED    0   1\n",
            "ACTUAL       \n",
            "0       5  31\n",
            "1       4  54\n",
            "<IPython.core.display.HTML object>\n",
            "<IPython.core.display.HTML object>\n"
          ],
          "name": "stdout"
        },
        {
          "output_type": "stream",
          "text": [
            "/usr/local/lib/python3.6/dist-packages/ipykernel_launcher.py:28: FutureWarning: `item` has been deprecated and will be removed in a future version\n",
            "/usr/local/lib/python3.6/dist-packages/ipykernel_launcher.py:29: FutureWarning: `item` has been deprecated and will be removed in a future version\n",
            "/usr/local/lib/python3.6/dist-packages/ipykernel_launcher.py:30: FutureWarning: `item` has been deprecated and will be removed in a future version\n",
            "/usr/local/lib/python3.6/dist-packages/ipykernel_launcher.py:31: FutureWarning: `item` has been deprecated and will be removed in a future version\n",
            "/usr/local/lib/python3.6/dist-packages/ipykernel_launcher.py:5: MatplotlibDeprecationWarning: Adding an axes using the same arguments as a previous axes currently reuses the earlier instance.  In a future version, a new instance will always be created and returned.  Meanwhile, this warning can be suppressed, and the future behavior ensured, by passing a unique label to each axes instance.\n",
            "  \"\"\"\n",
            "/usr/local/lib/python3.6/dist-packages/ipykernel_launcher.py:15: MatplotlibDeprecationWarning: Adding an axes using the same arguments as a previous axes currently reuses the earlier instance.  In a future version, a new instance will always be created and returned.  Meanwhile, this warning can be suppressed, and the future behavior ensured, by passing a unique label to each axes instance.\n",
            "  from ipykernel import kernelapp as app\n",
            "/usr/local/lib/python3.6/dist-packages/ipykernel_launcher.py:28: FutureWarning: `item` has been deprecated and will be removed in a future version\n",
            "/usr/local/lib/python3.6/dist-packages/ipykernel_launcher.py:29: FutureWarning: `item` has been deprecated and will be removed in a future version\n",
            "/usr/local/lib/python3.6/dist-packages/ipykernel_launcher.py:30: FutureWarning: `item` has been deprecated and will be removed in a future version\n",
            "/usr/local/lib/python3.6/dist-packages/ipykernel_launcher.py:31: FutureWarning: `item` has been deprecated and will be removed in a future version\n",
            "/usr/local/lib/python3.6/dist-packages/ipykernel_launcher.py:33: MatplotlibDeprecationWarning: Adding an axes using the same arguments as a previous axes currently reuses the earlier instance.  In a future version, a new instance will always be created and returned.  Meanwhile, this warning can be suppressed, and the future behavior ensured, by passing a unique label to each axes instance.\n"
          ],
          "name": "stderr"
        },
        {
          "output_type": "stream",
          "text": [
            "None\n",
            "None\n"
          ],
          "name": "stdout"
        },
        {
          "output_type": "display_data",
          "data": {
            "image/png": "[encoded data removed]",
            "text/plain": [
              "<Figure size 1440x360 with 3 Axes>"
            ]
          },
          "metadata": {
            "tags": []
          }
        }
      ]
    },
    {
      "cell_type": "code",
      "metadata": {
        "id": "654N_6YHtOyD",
        "colab_type": "code",
        "outputId": "4f082dc2-7036-4497-8b88-9ce76e628c6d",
        "colab": {
          "base_uri": "https://localhost:8080/",
          "height": 1000
        }
      },
      "source": [
        "clfGBHP, scores_train, scores_test, lift_train, lift_test = runModel('GBHP',fTrain,lTrain,fTest,lTest) #GradientBoostHyperParameter\n",
        "printCharts(scores_train,scores_test,lift_train,lift_test)"
      ],
      "execution_count": 83,
      "outputs": [
        {
          "output_type": "stream",
          "text": [
            "Gradient Boost - Hyper Parameter Tuning\n",
            "Fitting 2 folds for each of 360 candidates, totalling 720 fits\n"
          ],
          "name": "stdout"
        },
        {
          "output_type": "stream",
          "text": [
            "[Parallel(n_jobs=-1)]: Using backend LokyBackend with 2 concurrent workers.\n",
            "[Parallel(n_jobs=-1)]: Done  70 tasks      | elapsed:    8.3s\n",
            "[Parallel(n_jobs=-1)]: Done 312 tasks      | elapsed:   37.1s\n",
            "[Parallel(n_jobs=-1)]: Done 720 out of 720 | elapsed:  1.7min finished\n"
          ],
          "name": "stderr"
        },
        {
          "output_type": "stream",
          "text": [
            "{'max_depth': 3, 'max_features': 'auto', 'min_samples_leaf': 4, 'min_samples_split': 2, 'n_estimators': 10}\n",
            "accuracy_train: 0.7110091743119266\n",
            "accuracy_test: 0.5851063829787234\n",
            "auc_train: 0.850743006993007\n",
            "auc_test: 0.4868295019157088\n",
            "\n",
            "\n",
            "\n",
            "Assertivity - Train\n",
            "\n",
            "PRED     0    1\n",
            "ACTUAL         \n",
            "0       31   57\n",
            "1        6  124\n",
            "\n",
            "\n",
            "\n",
            "Assertivity - Test\n",
            "\n",
            "PRED    0   1\n",
            "ACTUAL       \n",
            "0       6  30\n",
            "1       9  49\n",
            "<IPython.core.display.HTML object>\n",
            "<IPython.core.display.HTML object>\n"
          ],
          "name": "stdout"
        },
        {
          "output_type": "stream",
          "text": [
            "/usr/local/lib/python3.6/dist-packages/ipykernel_launcher.py:28: FutureWarning: `item` has been deprecated and will be removed in a future version\n",
            "/usr/local/lib/python3.6/dist-packages/ipykernel_launcher.py:29: FutureWarning: `item` has been deprecated and will be removed in a future version\n",
            "/usr/local/lib/python3.6/dist-packages/ipykernel_launcher.py:30: FutureWarning: `item` has been deprecated and will be removed in a future version\n",
            "/usr/local/lib/python3.6/dist-packages/ipykernel_launcher.py:31: FutureWarning: `item` has been deprecated and will be removed in a future version\n",
            "/usr/local/lib/python3.6/dist-packages/ipykernel_launcher.py:5: MatplotlibDeprecationWarning: Adding an axes using the same arguments as a previous axes currently reuses the earlier instance.  In a future version, a new instance will always be created and returned.  Meanwhile, this warning can be suppressed, and the future behavior ensured, by passing a unique label to each axes instance.\n",
            "  \"\"\"\n",
            "/usr/local/lib/python3.6/dist-packages/ipykernel_launcher.py:15: MatplotlibDeprecationWarning: Adding an axes using the same arguments as a previous axes currently reuses the earlier instance.  In a future version, a new instance will always be created and returned.  Meanwhile, this warning can be suppressed, and the future behavior ensured, by passing a unique label to each axes instance.\n",
            "  from ipykernel import kernelapp as app\n",
            "/usr/local/lib/python3.6/dist-packages/ipykernel_launcher.py:28: FutureWarning: `item` has been deprecated and will be removed in a future version\n",
            "/usr/local/lib/python3.6/dist-packages/ipykernel_launcher.py:29: FutureWarning: `item` has been deprecated and will be removed in a future version\n",
            "/usr/local/lib/python3.6/dist-packages/ipykernel_launcher.py:30: FutureWarning: `item` has been deprecated and will be removed in a future version\n",
            "/usr/local/lib/python3.6/dist-packages/ipykernel_launcher.py:31: FutureWarning: `item` has been deprecated and will be removed in a future version\n",
            "/usr/local/lib/python3.6/dist-packages/ipykernel_launcher.py:33: MatplotlibDeprecationWarning: Adding an axes using the same arguments as a previous axes currently reuses the earlier instance.  In a future version, a new instance will always be created and returned.  Meanwhile, this warning can be suppressed, and the future behavior ensured, by passing a unique label to each axes instance.\n"
          ],
          "name": "stderr"
        },
        {
          "output_type": "stream",
          "text": [
            "None\n",
            "None\n"
          ],
          "name": "stdout"
        },
        {
          "output_type": "display_data",
          "data": {
            "image/png": "[encoded data removed]",
            "text/plain": [
              "<Figure size 1440x360 with 3 Axes>"
            ]
          },
          "metadata": {
            "tags": []
          }
        }
      ]
    },
    {
      "cell_type": "markdown",
      "metadata": {
        "id": "cVkmQqQ8NQiJ",
        "colab_type": "text"
      },
      "source": [
        "## Exporting Model"
      ]
    },
    {
      "cell_type": "code",
      "metadata": {
        "id": "kOqE0X2_Klwf",
        "colab_type": "code",
        "colab": {
          "base_uri": "https://localhost:8080/",
          "height": 1000
        },
        "outputId": "45857d40-27bc-4d8c-9199-3ba10a20a3c0"
      },
      "source": [
        "print('Exports')\n",
        "for i in range(0,len(exports)):\n",
        "  print('\\n\\n\\n\\n###############\\n # {}\\n\\t{}\\n'.format(i,exports[i].__class__))\n",
        "  print('\\n\\t{}\\n\\n\\n'.format(exports[i]))"
      ],
      "execution_count": 84,
      "outputs": [
        {
          "output_type": "stream",
          "text": [
            "Exports\n",
            "\n",
            "\n",
            "\n",
            "\n",
            "###############\n",
            " # 0\n",
            "\t<class 'sklearn.preprocessing._data.StandardScaler'>\n",
            "\n",
            "\n",
            "\tStandardScaler(copy=True, with_mean=True, with_std=True)\n",
            "\n",
            "\n",
            "\n",
            "\n",
            "\n",
            "\n",
            "\n",
            "###############\n",
            " # 1\n",
            "\t<class 'dict'>\n",
            "\n",
            "\n",
            "\t{'TempBulboUmido': GridSearchCV(cv=3, error_score=nan,\n",
            "             estimator=DecisionTreeClassifier(ccp_alpha=0.0, class_weight=None,\n",
            "                                              criterion='gini', max_depth=None,\n",
            "                                              max_features=None,\n",
            "                                              max_leaf_nodes=None,\n",
            "                                              min_impurity_decrease=0.0,\n",
            "                                              min_impurity_split=None,\n",
            "                                              min_samples_leaf=1,\n",
            "                                              min_samples_split=2,\n",
            "                                              min_weight_fraction_leaf=0.0,\n",
            "                                              presort='deprecated',\n",
            "                                              random_state=666,\n",
            "                                              splitter='best'),\n",
            "             iid='deprecated', n_jobs=None,\n",
            "             param_grid={'max_depth': [1, 2, 3, 4, 5],\n",
            "                         'max_leaf_nodes': [2, 4, 8, 12, 15, 19]},\n",
            "             pre_dispatch='2*n_jobs', refit=True, return_train_score=False,\n",
            "             scoring='neg_mean_squared_error', verbose=0)}\n",
            "\n",
            "\n",
            "\n",
            "\n",
            "\n",
            "\n",
            "\n",
            "###############\n",
            " # 2\n",
            "\t<class 'dict'>\n",
            "\n",
            "\n",
            "\t{'TempBulboUmido': ['A', 'B']}\n",
            "\n",
            "\n",
            "\n",
            "\n",
            "\n",
            "\n",
            "\n",
            "###############\n",
            " # 3\n",
            "\t<class 'dict'>\n",
            "\n",
            "\n",
            "\t{'TempBulboUmido': [0.605, 0.0]}\n",
            "\n",
            "\n",
            "\n",
            "\n",
            "\n",
            "\n",
            "\n",
            "###############\n",
            " # 4\n",
            "\t<class 'list'>\n",
            "\n",
            "\n",
            "\t['PressaoAtmEstacao', 'TempBulboSeco', 'TempBulboUmido', 'UmidadeRelativa']\n",
            "\n",
            "\n",
            "\n",
            "\n",
            "\n",
            "\n",
            "\n",
            "###############\n",
            " # 5\n",
            "\t<class 'list'>\n",
            "\n",
            "\n",
            "\t['PressaoAtmEstacao', 'TempBulboSeco', 'TempBulboUmido_B', 'TempBulboUmido_NA', 'UmidadeRelativa']\n",
            "\n",
            "\n",
            "\n",
            "\n",
            "\n",
            "\n",
            "\n",
            "###############\n",
            " # 6\n",
            "\t<class 'list'>\n",
            "\n",
            "\n",
            "\t['PressaoAtmEstacao', 'TempBulboSeco', 'UmidadeRelativa']\n",
            "\n",
            "\n",
            "\n",
            "\n",
            "\n",
            "\n",
            "\n",
            "###############\n",
            " # 7\n",
            "\t<class 'list'>\n",
            "\n",
            "\n",
            "\t['TempBulboUmido']\n",
            "\n",
            "\n",
            "\n",
            "\n",
            "\n",
            "\n",
            "\n",
            "###############\n",
            " # 8\n",
            "\t<class 'list'>\n",
            "\n",
            "\n",
            "\t[]\n",
            "\n",
            "\n",
            "\n",
            "\n",
            "\n",
            "\n",
            "\n",
            "###############\n",
            " # 9\n",
            "\t<class 'list'>\n",
            "\n",
            "\n",
            "\t[]\n",
            "\n",
            "\n",
            "\n",
            "\n",
            "\n",
            "\n",
            "\n",
            "###############\n",
            " # 10\n",
            "\t<class 'list'>\n",
            "\n",
            "\n",
            "\t[]\n",
            "\n",
            "\n",
            "\n"
          ],
          "name": "stdout"
        }
      ]
    },
    {
      "cell_type": "code",
      "metadata": {
        "id": "89FA2XDyM8qH",
        "colab_type": "code",
        "colab": {
          "base_uri": "https://localhost:8080/",
          "height": 34
        },
        "outputId": "2720b63f-6a96-4c3a-efe0-a3cc630be612"
      },
      "source": [
        "joblib.dump(exports[0], '/content/drive/My Drive/Persona/scaler')\n",
        "joblib.dump(exports[1], '/content/drive/My Drive/Persona/binner_model')\n",
        "joblib.dump(exports[2], '/content/drive/My Drive/Persona/binner_chars')\n",
        "joblib.dump(exports[3], '/content/drive/My Drive/Persona/binner_proba')\n",
        "joblib.dump(exports[4], '/content/drive/My Drive/Persona/vars_brutas')\n",
        "joblib.dump(exports[5], '/content/drive/My Drive/Persona/vars_abertas')\n",
        "joblib.dump(exports[6], '/content/drive/My Drive/Persona/vars_numeric_zero')\n",
        "joblib.dump(exports[7], '/content/drive/My Drive/Persona/vars_binners')"
      ],
      "execution_count": 85,
      "outputs": [
        {
          "output_type": "execute_result",
          "data": {
            "text/plain": [
              "['/content/drive/My Drive/Persona/vars_binners']"
            ]
          },
          "metadata": {
            "tags": []
          },
          "execution_count": 85
        }
      ]
    },
    {
      "cell_type": "markdown",
      "metadata": {
        "id": "3A4WPMG7O_h2",
        "colab_type": "text"
      },
      "source": [
        "## Trainning Loop"
      ]
    },
    {
      "cell_type": "code",
      "metadata": {
        "id": "xNrphsqAPEYx",
        "colab_type": "code",
        "colab": {
          "base_uri": "https://localhost:8080/",
          "height": 1000
        },
        "outputId": "c6a0af64-1582-4579-f12d-46e30cf595c5"
      },
      "source": [
        "clf_ = {}\n",
        "number_of_elements = 25\n",
        "count = 1\n",
        "out = display(update_progress(0, 100), display_id=True)\n",
        "for x in range(1,26):\n",
        "  print('Model Y = {}'.format(x))\n",
        "  variaveis_brutas = joblib.load('/content/drive/My Drive/Persona/vars_brutas')\n",
        "  variaveis_brutas.append('X_{}'.format(x))\n",
        "  variaveis_todas = joblib.load('/content/drive/My Drive/Persona/vars_brutas')\n",
        "  variaveis_todas.append('target')\n",
        "  df01 = dfMerge[variaveis_brutas].copy()\n",
        "  df01.columns = variaveis_todas\n",
        "  filter_numeric = joblib.load('/content/drive/My Drive/Persona/vars_numeric_zero')\n",
        "  df01_1 = df01[filter_numeric]\n",
        "  df01_2 = df01[df01.columns.difference(filter_numeric)]\n",
        "  df_numeric = df01_1.fillna(0)\n",
        "  scaler = joblib.load('/content/drive/My Drive/Persona/scaler')\n",
        "  df02 = df_numeric.astype(float)\n",
        "  scaled_fit = scaler.fit_transform(df02)\n",
        "  df_numeric_scaled = pd.DataFrame(scaled_fit, columns=df_numeric.columns,index=df_numeric.index)\n",
        "  filter_discretizer = joblib.load('/content/drive/My Drive/Persona/vars_binners')\n",
        "  binners = joblib.load('/content/drive/My Drive/Persona/binner_model')\n",
        "  binners_chars = joblib.load('/content/drive/My Drive/Persona/binner_chars')\n",
        "  binners_probas = joblib.load('/content/drive/My Drive/Persona/binner_proba')\n",
        "  vars_dis = apply_binner(df01_2[filter_discretizer],filter_discretizer,binners,binners_chars,binners_probas)\n",
        "  vars_dis.fillna('NA',inplace=True)\n",
        "  vars_dis.drop(filter_discretizer,axis=1,inplace=True)\n",
        "  vars_dis.columns = filter_discretizer\n",
        "  df_dummies = pd.get_dummies(vars_dis,prefix=vars_dis.columns,prefix_sep='_',drop_first=True,columns=vars_dis.columns)\n",
        "  df_dummies.columns = [col.replace(' ','') for col in df_dummies.columns]\n",
        "  df_tmp1 = pd.merge(df_numeric_scaled,df_dummies,left_index=True,right_index=True)\n",
        "  ABT_df = pd.merge(df_tmp2,df01[['target']],left_index=True,right_index=True)\n",
        "  colunas_ABT = joblib.load('/content/drive/My Drive/Persona/vars_abertas')\n",
        "  colunas_model = colunas_ABT.copy()\n",
        "  colunas_model.append('target')\n",
        "  dfABT_Model = ABT_df[colunas_model]\n",
        "  train, test = train_test_split(dfABT_Model, test_size = testSize, random_state=666)\n",
        "  train = train.reset_index(drop=True)\n",
        "  test = test.reset_index(drop=True)\n",
        "  fTrain = train[colunas_ABT]\n",
        "  lTrain = train['target']\n",
        "  fTest = test[colunas_ABT]\n",
        "  lTest = test['target']\n",
        "  clf_[x], scores_train, scores_test, lift_train, lift_test = runModel('LR',fTrain,lTrain,fTest,lTest) #LogisticRegression\n",
        "  #printCharts(scores_train,scores_test,lift_train,lift_test)\n",
        "  out.update(update_progress((count / number_of_elements)*100, 100))\n",
        "  count = count + 1"
      ],
      "execution_count": 104,
      "outputs": [
        {
          "output_type": "display_data",
          "data": {
            "text/html": [
              "\n",
              "        <progress\n",
              "            value='100.0'\n",
              "            max='100',\n",
              "            style='width: 100%'\n",
              "        >\n",
              "            100.0\n",
              "        </progress>\n",
              "    "
            ],
            "text/plain": [
              "<IPython.core.display.HTML object>"
            ]
          },
          "metadata": {
            "tags": []
          }
        },
        {
          "output_type": "stream",
          "text": [
            "Model Y = 1\n"
          ],
          "name": "stdout"
        },
        {
          "output_type": "display_data",
          "data": {
            "text/html": [
              "\n",
              "        <progress\n",
              "            value='100'\n",
              "            max='100',\n",
              "            style='width: 100%'\n",
              "        >\n",
              "            100\n",
              "        </progress>\n",
              "    "
            ],
            "text/plain": [
              "<IPython.core.display.HTML object>"
            ]
          },
          "metadata": {
            "tags": []
          }
        },
        {
          "output_type": "stream",
          "text": [
            "Logistic Regression\n",
            "accuracy_train: 0.6100917431192661\n",
            "accuracy_test: 0.6170212765957447\n",
            "auc_train: 0.6013111888111887\n",
            "auc_test: 0.5316091954022989\n",
            "\n",
            "\n",
            "\n",
            "Assertivity - Train\n",
            "\n",
            "PRED     0    1\n",
            "ACTUAL         \n",
            "0       12   76\n",
            "1        9  121\n",
            "\n",
            "\n",
            "\n",
            "Assertivity - Test\n",
            "\n",
            "PRED    0   1\n",
            "ACTUAL       \n",
            "0       4  32\n",
            "1       4  54\n",
            "Model Y = 2\n"
          ],
          "name": "stdout"
        },
        {
          "output_type": "display_data",
          "data": {
            "text/html": [
              "\n",
              "        <progress\n",
              "            value='100'\n",
              "            max='100',\n",
              "            style='width: 100%'\n",
              "        >\n",
              "            100\n",
              "        </progress>\n",
              "    "
            ],
            "text/plain": [
              "<IPython.core.display.HTML object>"
            ]
          },
          "metadata": {
            "tags": []
          }
        },
        {
          "output_type": "stream",
          "text": [
            "Logistic Regression\n",
            "accuracy_train: 0.573394495412844\n",
            "accuracy_test: 0.5\n",
            "auc_train: 0.61080344210616\n",
            "auc_test: 0.48136217211228716\n",
            "\n",
            "\n",
            "\n",
            "Assertivity - Train\n",
            "\n",
            "PRED     0   1\n",
            "ACTUAL        \n",
            "0       38  59\n",
            "1       34  87\n",
            "\n",
            "\n",
            "\n",
            "Assertivity - Test\n",
            "\n",
            "PRED     0   1\n",
            "ACTUAL        \n",
            "0       12  29\n",
            "1       18  35\n",
            "Model Y = 3\n"
          ],
          "name": "stdout"
        },
        {
          "output_type": "display_data",
          "data": {
            "text/html": [
              "\n",
              "        <progress\n",
              "            value='100'\n",
              "            max='100',\n",
              "            style='width: 100%'\n",
              "        >\n",
              "            100\n",
              "        </progress>\n",
              "    "
            ],
            "text/plain": [
              "<IPython.core.display.HTML object>"
            ]
          },
          "metadata": {
            "tags": []
          }
        },
        {
          "output_type": "stream",
          "text": [
            "Logistic Regression\n",
            "accuracy_train: 0.5963302752293578\n",
            "accuracy_test: 0.48936170212765956\n",
            "auc_train: 0.5708245243128963\n",
            "auc_test: 0.5067934782608696\n",
            "\n",
            "\n",
            "\n",
            "Assertivity - Train\n",
            "\n",
            "PRED    0    1\n",
            "ACTUAL        \n",
            "0       3   83\n",
            "1       5  127\n",
            "\n",
            "\n",
            "\n",
            "Assertivity - Test\n",
            "\n",
            "PRED     1\n",
            "ACTUAL    \n",
            "0       48\n",
            "1       46\n",
            "Model Y = 4\n"
          ],
          "name": "stdout"
        },
        {
          "output_type": "display_data",
          "data": {
            "text/html": [
              "\n",
              "        <progress\n",
              "            value='100'\n",
              "            max='100',\n",
              "            style='width: 100%'\n",
              "        >\n",
              "            100\n",
              "        </progress>\n",
              "    "
            ],
            "text/plain": [
              "<IPython.core.display.HTML object>"
            ]
          },
          "metadata": {
            "tags": []
          }
        },
        {
          "output_type": "stream",
          "text": [
            "Logistic Regression\n",
            "accuracy_train: 0.5871559633027523\n",
            "accuracy_test: 0.6382978723404256\n",
            "auc_train: 0.5196180555555555\n",
            "auc_test: 0.45637254901960783\n",
            "\n",
            "\n",
            "\n",
            "Assertivity - Train\n",
            "\n",
            "PRED      1\n",
            "ACTUAL     \n",
            "0        90\n",
            "1       128\n",
            "\n",
            "\n",
            "\n",
            "Assertivity - Test\n",
            "\n",
            "PRED     1\n",
            "ACTUAL    \n",
            "0       34\n",
            "1       60\n",
            "Model Y = 5\n"
          ],
          "name": "stdout"
        },
        {
          "output_type": "display_data",
          "data": {
            "text/html": [
              "\n",
              "        <progress\n",
              "            value='100'\n",
              "            max='100',\n",
              "            style='width: 100%'\n",
              "        >\n",
              "            100\n",
              "        </progress>\n",
              "    "
            ],
            "text/plain": [
              "<IPython.core.display.HTML object>"
            ]
          },
          "metadata": {
            "tags": []
          }
        },
        {
          "output_type": "stream",
          "text": [
            "Logistic Regression\n",
            "accuracy_train: 0.6422018348623854\n",
            "accuracy_test: 0.6702127659574468\n",
            "auc_train: 0.563003663003663\n",
            "auc_test: 0.49974398361495137\n",
            "\n",
            "\n",
            "\n",
            "Assertivity - Train\n",
            "\n",
            "PRED      1\n",
            "ACTUAL     \n",
            "0        78\n",
            "1       140\n",
            "\n",
            "\n",
            "\n",
            "Assertivity - Test\n",
            "\n",
            "PRED     1\n",
            "ACTUAL    \n",
            "0       31\n",
            "1       63\n",
            "Model Y = 6\n"
          ],
          "name": "stdout"
        },
        {
          "output_type": "display_data",
          "data": {
            "text/html": [
              "\n",
              "        <progress\n",
              "            value='100'\n",
              "            max='100',\n",
              "            style='width: 100%'\n",
              "        >\n",
              "            100\n",
              "        </progress>\n",
              "    "
            ],
            "text/plain": [
              "<IPython.core.display.HTML object>"
            ]
          },
          "metadata": {
            "tags": []
          }
        },
        {
          "output_type": "stream",
          "text": [
            "Logistic Regression\n",
            "accuracy_train: 0.573394495412844\n",
            "accuracy_test: 0.48936170212765956\n",
            "auc_train: 0.5764655541292255\n",
            "auc_test: 0.5930285196921683\n",
            "\n",
            "\n",
            "\n",
            "Assertivity - Train\n",
            "\n",
            "PRED     0    1\n",
            "ACTUAL         \n",
            "0       19   76\n",
            "1       17  106\n",
            "\n",
            "\n",
            "\n",
            "Assertivity - Test\n",
            "\n",
            "PRED     0   1\n",
            "ACTUAL        \n",
            "0       11  36\n",
            "1       12  35\n",
            "Model Y = 7\n"
          ],
          "name": "stdout"
        },
        {
          "output_type": "display_data",
          "data": {
            "text/html": [
              "\n",
              "        <progress\n",
              "            value='100'\n",
              "            max='100',\n",
              "            style='width: 100%'\n",
              "        >\n",
              "            100\n",
              "        </progress>\n",
              "    "
            ],
            "text/plain": [
              "<IPython.core.display.HTML object>"
            ]
          },
          "metadata": {
            "tags": []
          }
        },
        {
          "output_type": "stream",
          "text": [
            "Logistic Regression\n",
            "accuracy_train: 0.6330275229357798\n",
            "accuracy_test: 0.44680851063829785\n",
            "auc_train: 0.5792576218108132\n",
            "auc_test: 0.4739010989010989\n",
            "\n",
            "\n",
            "\n",
            "Assertivity - Train\n",
            "\n",
            "PRED    0    1\n",
            "ACTUAL        \n",
            "0       0   77\n",
            "1       3  138\n",
            "\n",
            "\n",
            "\n",
            "Assertivity - Test\n",
            "\n",
            "PRED     1\n",
            "ACTUAL    \n",
            "0       52\n",
            "1       42\n",
            "Model Y = 8\n"
          ],
          "name": "stdout"
        },
        {
          "output_type": "display_data",
          "data": {
            "text/html": [
              "\n",
              "        <progress\n",
              "            value='100'\n",
              "            max='100',\n",
              "            style='width: 100%'\n",
              "        >\n",
              "            100\n",
              "        </progress>\n",
              "    "
            ],
            "text/plain": [
              "<IPython.core.display.HTML object>"
            ]
          },
          "metadata": {
            "tags": []
          }
        },
        {
          "output_type": "stream",
          "text": [
            "Logistic Regression\n",
            "accuracy_train: 0.5688073394495413\n",
            "accuracy_test: 0.5851063829787234\n",
            "auc_train: 0.5780710835058661\n",
            "auc_test: 0.4343137254901961\n",
            "\n",
            "\n",
            "\n",
            "Assertivity - Train\n",
            "\n",
            "PRED     0    1\n",
            "ACTUAL         \n",
            "0       10   82\n",
            "1       12  114\n",
            "\n",
            "\n",
            "\n",
            "Assertivity - Test\n",
            "\n",
            "PRED    0   1\n",
            "ACTUAL       \n",
            "0       2  32\n",
            "1       7  53\n",
            "Model Y = 9\n"
          ],
          "name": "stdout"
        },
        {
          "output_type": "display_data",
          "data": {
            "text/html": [
              "\n",
              "        <progress\n",
              "            value='100'\n",
              "            max='100',\n",
              "            style='width: 100%'\n",
              "        >\n",
              "            100\n",
              "        </progress>\n",
              "    "
            ],
            "text/plain": [
              "<IPython.core.display.HTML object>"
            ]
          },
          "metadata": {
            "tags": []
          }
        },
        {
          "output_type": "stream",
          "text": [
            "Logistic Regression\n",
            "accuracy_train: 0.6055045871559633\n",
            "accuracy_test: 0.5957446808510638\n",
            "auc_train: 0.5933281073077258\n",
            "auc_test: 0.592911877394636\n",
            "\n",
            "\n",
            "\n",
            "Assertivity - Train\n",
            "\n",
            "PRED    0    1\n",
            "ACTUAL        \n",
            "0       9   80\n",
            "1       6  123\n",
            "\n",
            "\n",
            "\n",
            "Assertivity - Test\n",
            "\n",
            "PRED    0   1\n",
            "ACTUAL       \n",
            "0       2  34\n",
            "1       4  54\n",
            "Model Y = 10\n"
          ],
          "name": "stdout"
        },
        {
          "output_type": "display_data",
          "data": {
            "text/html": [
              "\n",
              "        <progress\n",
              "            value='100'\n",
              "            max='100',\n",
              "            style='width: 100%'\n",
              "        >\n",
              "            100\n",
              "        </progress>\n",
              "    "
            ],
            "text/plain": [
              "<IPython.core.display.HTML object>"
            ]
          },
          "metadata": {
            "tags": []
          }
        },
        {
          "output_type": "stream",
          "text": [
            "Logistic Regression\n",
            "accuracy_train: 0.5825688073394495\n",
            "accuracy_test: 0.648936170212766\n",
            "auc_train: 0.5852311939268461\n",
            "auc_test: 0.5151515151515151\n",
            "\n",
            "\n",
            "\n",
            "Assertivity - Train\n",
            "\n",
            "PRED    0    1\n",
            "ACTUAL        \n",
            "0       3   89\n",
            "1       2  124\n",
            "\n",
            "\n",
            "\n",
            "Assertivity - Test\n",
            "\n",
            "PRED    0   1\n",
            "ACTUAL       \n",
            "0       1  32\n",
            "1       1  60\n",
            "Model Y = 11\n"
          ],
          "name": "stdout"
        },
        {
          "output_type": "display_data",
          "data": {
            "text/html": [
              "\n",
              "        <progress\n",
              "            value='100'\n",
              "            max='100',\n",
              "            style='width: 100%'\n",
              "        >\n",
              "            100\n",
              "        </progress>\n",
              "    "
            ],
            "text/plain": [
              "<IPython.core.display.HTML object>"
            ]
          },
          "metadata": {
            "tags": []
          }
        },
        {
          "output_type": "stream",
          "text": [
            "Logistic Regression\n",
            "accuracy_train: 0.591743119266055\n",
            "accuracy_test: 0.6063829787234043\n",
            "auc_train: 0.5502745367192862\n",
            "auc_test: 0.4188508064516129\n",
            "\n",
            "\n",
            "\n",
            "Assertivity - Train\n",
            "\n",
            "PRED     0    1\n",
            "ACTUAL         \n",
            "0       10   84\n",
            "1        5  119\n",
            "\n",
            "\n",
            "\n",
            "Assertivity - Test\n",
            "\n",
            "PRED    0   1\n",
            "ACTUAL       \n",
            "0       0  32\n",
            "1       5  57\n",
            "Model Y = 12\n"
          ],
          "name": "stdout"
        },
        {
          "output_type": "display_data",
          "data": {
            "text/html": [
              "\n",
              "        <progress\n",
              "            value='100'\n",
              "            max='100',\n",
              "            style='width: 100%'\n",
              "        >\n",
              "            100\n",
              "        </progress>\n",
              "    "
            ],
            "text/plain": [
              "<IPython.core.display.HTML object>"
            ]
          },
          "metadata": {
            "tags": []
          }
        },
        {
          "output_type": "stream",
          "text": [
            "Logistic Regression\n",
            "accuracy_train: 0.5688073394495413\n",
            "accuracy_test: 0.5106382978723404\n",
            "auc_train: 0.6133594615319078\n",
            "auc_test: 0.47509398496240596\n",
            "\n",
            "\n",
            "\n",
            "Assertivity - Train\n",
            "\n",
            "PRED     0   1\n",
            "ACTUAL        \n",
            "0       30  67\n",
            "1       27  94\n",
            "\n",
            "\n",
            "\n",
            "Assertivity - Test\n",
            "\n",
            "PRED     0   1\n",
            "ACTUAL        \n",
            "0       10  28\n",
            "1       18  38\n",
            "Model Y = 13\n"
          ],
          "name": "stdout"
        },
        {
          "output_type": "display_data",
          "data": {
            "text/html": [
              "\n",
              "        <progress\n",
              "            value='100'\n",
              "            max='100',\n",
              "            style='width: 100%'\n",
              "        >\n",
              "            100\n",
              "        </progress>\n",
              "    "
            ],
            "text/plain": [
              "<IPython.core.display.HTML object>"
            ]
          },
          "metadata": {
            "tags": []
          }
        },
        {
          "output_type": "stream",
          "text": [
            "Logistic Regression\n",
            "accuracy_train: 0.6146788990825688\n",
            "accuracy_test: 0.648936170212766\n",
            "auc_train: 0.5531180893409995\n",
            "auc_test: 0.5588673621460507\n",
            "\n",
            "\n",
            "\n",
            "Assertivity - Train\n",
            "\n",
            "PRED    0    1\n",
            "ACTUAL        \n",
            "0       1   84\n",
            "1       0  133\n",
            "\n",
            "\n",
            "\n",
            "Assertivity - Test\n",
            "\n",
            "PRED     1\n",
            "ACTUAL    \n",
            "0       33\n",
            "1       61\n",
            "Model Y = 14\n"
          ],
          "name": "stdout"
        },
        {
          "output_type": "display_data",
          "data": {
            "text/html": [
              "\n",
              "        <progress\n",
              "            value='100'\n",
              "            max='100',\n",
              "            style='width: 100%'\n",
              "        >\n",
              "            100\n",
              "        </progress>\n",
              "    "
            ],
            "text/plain": [
              "<IPython.core.display.HTML object>"
            ]
          },
          "metadata": {
            "tags": []
          }
        },
        {
          "output_type": "stream",
          "text": [
            "Logistic Regression\n",
            "accuracy_train: 0.591743119266055\n",
            "accuracy_test: 0.5638297872340425\n",
            "auc_train: 0.6079610791685095\n",
            "auc_test: 0.4666666666666667\n",
            "\n",
            "\n",
            "\n",
            "Assertivity - Train\n",
            "\n",
            "PRED     0    1\n",
            "ACTUAL         \n",
            "0       10   75\n",
            "1       14  119\n",
            "\n",
            "\n",
            "\n",
            "Assertivity - Test\n",
            "\n",
            "PRED    0   1\n",
            "ACTUAL       \n",
            "0       5  34\n",
            "1       7  48\n",
            "Model Y = 15\n"
          ],
          "name": "stdout"
        },
        {
          "output_type": "display_data",
          "data": {
            "text/html": [
              "\n",
              "        <progress\n",
              "            value='100'\n",
              "            max='100',\n",
              "            style='width: 100%'\n",
              "        >\n",
              "            100\n",
              "        </progress>\n",
              "    "
            ],
            "text/plain": [
              "<IPython.core.display.HTML object>"
            ]
          },
          "metadata": {
            "tags": []
          }
        },
        {
          "output_type": "stream",
          "text": [
            "Logistic Regression\n",
            "accuracy_train: 0.6284403669724771\n",
            "accuracy_test: 0.6063829787234043\n",
            "auc_train: 0.5573426573426573\n",
            "auc_test: 0.49407302038880985\n",
            "\n",
            "\n",
            "\n",
            "Assertivity - Train\n",
            "\n",
            "PRED    0    1\n",
            "ACTUAL        \n",
            "0       7   81\n",
            "1       0  130\n",
            "\n",
            "\n",
            "\n",
            "Assertivity - Test\n",
            "\n",
            "PRED    0   1\n",
            "ACTUAL       \n",
            "0       1  36\n",
            "1       1  56\n",
            "Model Y = 16\n"
          ],
          "name": "stdout"
        },
        {
          "output_type": "display_data",
          "data": {
            "text/html": [
              "\n",
              "        <progress\n",
              "            value='100'\n",
              "            max='100',\n",
              "            style='width: 100%'\n",
              "        >\n",
              "            100\n",
              "        </progress>\n",
              "    "
            ],
            "text/plain": [
              "<IPython.core.display.HTML object>"
            ]
          },
          "metadata": {
            "tags": []
          }
        },
        {
          "output_type": "stream",
          "text": [
            "Logistic Regression\n",
            "accuracy_train: 0.6192660550458715\n",
            "accuracy_test: 0.5531914893617021\n",
            "auc_train: 0.5641835570764236\n",
            "auc_test: 0.468997668997669\n",
            "\n",
            "\n",
            "\n",
            "Assertivity - Train\n",
            "\n",
            "PRED     0    1\n",
            "ACTUAL         \n",
            "0       10   77\n",
            "1        6  125\n",
            "\n",
            "\n",
            "\n",
            "Assertivity - Test\n",
            "\n",
            "PRED    0   1\n",
            "ACTUAL       \n",
            "0       3  36\n",
            "1       6  49\n",
            "Model Y = 17\n"
          ],
          "name": "stdout"
        },
        {
          "output_type": "display_data",
          "data": {
            "text/html": [
              "\n",
              "        <progress\n",
              "            value='100'\n",
              "            max='100',\n",
              "            style='width: 100%'\n",
              "        >\n",
              "            100\n",
              "        </progress>\n",
              "    "
            ],
            "text/plain": [
              "<IPython.core.display.HTML object>"
            ]
          },
          "metadata": {
            "tags": []
          }
        },
        {
          "output_type": "stream",
          "text": [
            "Logistic Regression\n",
            "accuracy_train: 0.5871559633027523\n",
            "accuracy_test: 0.5957446808510638\n",
            "auc_train: 0.5690923249978368\n",
            "auc_test: 0.568802781917536\n",
            "\n",
            "\n",
            "\n",
            "Assertivity - Train\n",
            "\n",
            "PRED    0    1\n",
            "ACTUAL        \n",
            "0       7   84\n",
            "1       6  121\n",
            "\n",
            "\n",
            "\n",
            "Assertivity - Test\n",
            "\n",
            "PRED    0   1\n",
            "ACTUAL       \n",
            "0       1  32\n",
            "1       6  55\n",
            "Model Y = 18\n"
          ],
          "name": "stdout"
        },
        {
          "output_type": "display_data",
          "data": {
            "text/html": [
              "\n",
              "        <progress\n",
              "            value='100'\n",
              "            max='100',\n",
              "            style='width: 100%'\n",
              "        >\n",
              "            100\n",
              "        </progress>\n",
              "    "
            ],
            "text/plain": [
              "<IPython.core.display.HTML object>"
            ]
          },
          "metadata": {
            "tags": []
          }
        },
        {
          "output_type": "stream",
          "text": [
            "Logistic Regression\n",
            "accuracy_train: 0.6559633027522935\n",
            "accuracy_test: 0.6063829787234043\n",
            "auc_train: 0.5830244625648627\n",
            "auc_test: 0.5135135135135136\n",
            "\n",
            "\n",
            "\n",
            "Assertivity - Train\n",
            "\n",
            "PRED    0    1\n",
            "ACTUAL        \n",
            "0       1   75\n",
            "1       0  142\n",
            "\n",
            "\n",
            "\n",
            "Assertivity - Test\n",
            "\n",
            "PRED     1\n",
            "ACTUAL    \n",
            "0       37\n",
            "1       57\n",
            "Model Y = 19\n"
          ],
          "name": "stdout"
        },
        {
          "output_type": "display_data",
          "data": {
            "text/html": [
              "\n",
              "        <progress\n",
              "            value='100'\n",
              "            max='100',\n",
              "            style='width: 100%'\n",
              "        >\n",
              "            100\n",
              "        </progress>\n",
              "    "
            ],
            "text/plain": [
              "<IPython.core.display.HTML object>"
            ]
          },
          "metadata": {
            "tags": []
          }
        },
        {
          "output_type": "stream",
          "text": [
            "Logistic Regression\n",
            "accuracy_train: 0.591743119266055\n",
            "accuracy_test: 0.5851063829787234\n",
            "auc_train: 0.5634526609180386\n",
            "auc_test: 0.561877667140825\n",
            "\n",
            "\n",
            "\n",
            "Assertivity - Train\n",
            "\n",
            "PRED    0    1\n",
            "ACTUAL        \n",
            "0       2   87\n",
            "1       2  127\n",
            "\n",
            "\n",
            "\n",
            "Assertivity - Test\n",
            "\n",
            "PRED    0   1\n",
            "ACTUAL       \n",
            "0       0  37\n",
            "1       2  55\n",
            "Model Y = 20\n"
          ],
          "name": "stdout"
        },
        {
          "output_type": "display_data",
          "data": {
            "text/html": [
              "\n",
              "        <progress\n",
              "            value='100'\n",
              "            max='100',\n",
              "            style='width: 100%'\n",
              "        >\n",
              "            100\n",
              "        </progress>\n",
              "    "
            ],
            "text/plain": [
              "<IPython.core.display.HTML object>"
            ]
          },
          "metadata": {
            "tags": []
          }
        },
        {
          "output_type": "stream",
          "text": [
            "Logistic Regression\n",
            "accuracy_train: 0.6467889908256881\n",
            "accuracy_test: 0.5638297872340425\n",
            "auc_train: 0.5878235239937369\n",
            "auc_test: 0.37597791072250347\n",
            "\n",
            "\n",
            "\n",
            "Assertivity - Train\n",
            "\n",
            "PRED      1\n",
            "ACTUAL     \n",
            "0        77\n",
            "1       141\n",
            "\n",
            "\n",
            "\n",
            "Assertivity - Test\n",
            "\n",
            "PRED     1\n",
            "ACTUAL    \n",
            "0       41\n",
            "1       53\n",
            "Model Y = 21\n"
          ],
          "name": "stdout"
        },
        {
          "output_type": "display_data",
          "data": {
            "text/html": [
              "\n",
              "        <progress\n",
              "            value='100'\n",
              "            max='100',\n",
              "            style='width: 100%'\n",
              "        >\n",
              "            100\n",
              "        </progress>\n",
              "    "
            ],
            "text/plain": [
              "<IPython.core.display.HTML object>"
            ]
          },
          "metadata": {
            "tags": []
          }
        },
        {
          "output_type": "stream",
          "text": [
            "Logistic Regression\n",
            "accuracy_train: 0.6192660550458715\n",
            "accuracy_test: 0.7127659574468085\n",
            "auc_train: 0.5869153825358205\n",
            "auc_test: 0.5584415584415584\n",
            "\n",
            "\n",
            "\n",
            "Assertivity - Train\n",
            "\n",
            "PRED    0    1\n",
            "ACTUAL        \n",
            "0       1   80\n",
            "1       3  134\n",
            "\n",
            "\n",
            "\n",
            "Assertivity - Test\n",
            "\n",
            "PRED    0   1\n",
            "ACTUAL       \n",
            "0       1  27\n",
            "1       0  66\n",
            "Model Y = 22\n"
          ],
          "name": "stdout"
        },
        {
          "output_type": "display_data",
          "data": {
            "text/html": [
              "\n",
              "        <progress\n",
              "            value='100'\n",
              "            max='100',\n",
              "            style='width: 100%'\n",
              "        >\n",
              "            100\n",
              "        </progress>\n",
              "    "
            ],
            "text/plain": [
              "<IPython.core.display.HTML object>"
            ]
          },
          "metadata": {
            "tags": []
          }
        },
        {
          "output_type": "stream",
          "text": [
            "Logistic Regression\n",
            "accuracy_train: 0.5779816513761468\n",
            "accuracy_test: 0.5957446808510638\n",
            "auc_train: 0.5262978142076502\n",
            "auc_test: 0.5379953379953379\n",
            "\n",
            "\n",
            "\n",
            "Assertivity - Train\n",
            "\n",
            "PRED    0    1\n",
            "ACTUAL        \n",
            "0       4   92\n",
            "1       0  122\n",
            "\n",
            "\n",
            "\n",
            "Assertivity - Test\n",
            "\n",
            "PRED    0   1\n",
            "ACTUAL       \n",
            "0       1  38\n",
            "1       0  55\n",
            "Model Y = 23\n"
          ],
          "name": "stdout"
        },
        {
          "output_type": "display_data",
          "data": {
            "text/html": [
              "\n",
              "        <progress\n",
              "            value='100'\n",
              "            max='100',\n",
              "            style='width: 100%'\n",
              "        >\n",
              "            100\n",
              "        </progress>\n",
              "    "
            ],
            "text/plain": [
              "<IPython.core.display.HTML object>"
            ]
          },
          "metadata": {
            "tags": []
          }
        },
        {
          "output_type": "stream",
          "text": [
            "Logistic Regression\n",
            "accuracy_train: 0.6192660550458715\n",
            "accuracy_test: 0.5106382978723404\n",
            "auc_train: 0.5959310039805397\n",
            "auc_test: 0.4281179138321996\n",
            "\n",
            "\n",
            "\n",
            "Assertivity - Train\n",
            "\n",
            "PRED    0    1\n",
            "ACTUAL        \n",
            "0       4   81\n",
            "1       2  131\n",
            "\n",
            "\n",
            "\n",
            "Assertivity - Test\n",
            "\n",
            "PRED    0   1\n",
            "ACTUAL       \n",
            "0       0  45\n",
            "1       1  48\n",
            "Model Y = 24\n"
          ],
          "name": "stdout"
        },
        {
          "output_type": "display_data",
          "data": {
            "text/html": [
              "\n",
              "        <progress\n",
              "            value='100'\n",
              "            max='100',\n",
              "            style='width: 100%'\n",
              "        >\n",
              "            100\n",
              "        </progress>\n",
              "    "
            ],
            "text/plain": [
              "<IPython.core.display.HTML object>"
            ]
          },
          "metadata": {
            "tags": []
          }
        },
        {
          "output_type": "stream",
          "text": [
            "Logistic Regression\n",
            "accuracy_train: 0.6513761467889908\n",
            "accuracy_test: 0.5957446808510638\n",
            "auc_train: 0.5905867182462927\n",
            "auc_test: 0.5728383458646616\n",
            "\n",
            "\n",
            "\n",
            "Assertivity - Train\n",
            "\n",
            "PRED    0    1\n",
            "ACTUAL        \n",
            "0       1   76\n",
            "1       0  141\n",
            "\n",
            "\n",
            "\n",
            "Assertivity - Test\n",
            "\n",
            "PRED     1\n",
            "ACTUAL    \n",
            "0       38\n",
            "1       56\n",
            "Model Y = 25\n"
          ],
          "name": "stdout"
        },
        {
          "output_type": "display_data",
          "data": {
            "text/html": [
              "\n",
              "        <progress\n",
              "            value='100'\n",
              "            max='100',\n",
              "            style='width: 100%'\n",
              "        >\n",
              "            100\n",
              "        </progress>\n",
              "    "
            ],
            "text/plain": [
              "<IPython.core.display.HTML object>"
            ]
          },
          "metadata": {
            "tags": []
          }
        },
        {
          "output_type": "stream",
          "text": [
            "Logistic Regression\n",
            "accuracy_train: 0.5963302752293578\n",
            "accuracy_test: 0.6170212765957447\n",
            "auc_train: 0.5801573426573426\n",
            "auc_test: 0.5045362903225807\n",
            "\n",
            "\n",
            "\n",
            "Assertivity - Train\n",
            "\n",
            "PRED     0    1\n",
            "ACTUAL         \n",
            "0       12   76\n",
            "1       12  118\n",
            "\n",
            "\n",
            "\n",
            "Assertivity - Test\n",
            "\n",
            "PRED    0   1\n",
            "ACTUAL       \n",
            "0       2  30\n",
            "1       6  56\n"
          ],
          "name": "stdout"
        }
      ]
    },
    {
      "cell_type": "code",
      "metadata": {
        "id": "CEpI1Te319kH",
        "colab_type": "code",
        "colab": {
          "base_uri": "https://localhost:8080/",
          "height": 34
        },
        "outputId": "5c47ea70-1c53-44ce-b900-52d0b527449e"
      },
      "source": [
        "joblib.dump(clf_, '/content/drive/My Drive/Persona/models_1_25')"
      ],
      "execution_count": 106,
      "outputs": [
        {
          "output_type": "execute_result",
          "data": {
            "text/plain": [
              "['/content/drive/My Drive/Persona/models_1_25']"
            ]
          },
          "metadata": {
            "tags": []
          },
          "execution_count": 106
        }
      ]
    },
    {
      "cell_type": "markdown",
      "metadata": {
        "id": "z5_V9ZYf8oQV",
        "colab_type": "text"
      },
      "source": [
        "# Escoragem"
      ]
    },
    {
      "cell_type": "code",
      "metadata": {
        "id": "DlRrgGQNLHOo",
        "colab_type": "code",
        "colab": {}
      },
      "source": [
        "df = pd.DataFrame({'TempBulboSeco': [25.4], 'UmidadeRelativa': [69], 'PressaoAtmEstacao': [920.9], 'TempBulboUmido': [19.2]})"
      ],
      "execution_count": 0,
      "outputs": []
    },
    {
      "cell_type": "code",
      "metadata": {
        "id": "IszPWxjZ3CzJ",
        "colab_type": "code",
        "colab": {
          "base_uri": "https://localhost:8080/",
          "height": 505
        },
        "outputId": "b9ef554f-147e-4b43-e588-c61e05111d16"
      },
      "source": [
        "clf_ = joblib.load('/content/drive/My Drive/Persona/models_1_25')\n",
        "df1 = pd.DataFrame({'REF':['LR']})\n",
        "for x in range(1,26):\n",
        "  variaveis_brutas = joblib.load('/content/drive/My Drive/Persona/vars_brutas')\n",
        "  df01 = df[variaveis_brutas].copy()\n",
        "  filter_numeric = joblib.load('/content/drive/My Drive/Persona/vars_numeric_zero')\n",
        "  df01_1 = df01[filter_numeric]\n",
        "  df01_2 = df01[df01.columns.difference(filter_numeric)]\n",
        "  df_numeric = df01_1.fillna(0)\n",
        "  scaler = joblib.load('/content/drive/My Drive/Persona/scaler')\n",
        "  df02 = df_numeric.astype(float)\n",
        "  scaled_fit = scaler.fit_transform(df02)\n",
        "  df_numeric_scaled = pd.DataFrame(scaled_fit, columns=df_numeric.columns,index=df_numeric.index)\n",
        "  filter_discretizer = joblib.load('/content/drive/My Drive/Persona/vars_binners')\n",
        "  binners = joblib.load('/content/drive/My Drive/Persona/binner_model')\n",
        "  binners_chars = joblib.load('/content/drive/My Drive/Persona/binner_chars')\n",
        "  binners_probas = joblib.load('/content/drive/My Drive/Persona/binner_proba')\n",
        "  vars_dis = apply_binner(df01_2[filter_discretizer],filter_discretizer,binners,binners_chars,binners_probas)\n",
        "  vars_dis.fillna('NA',inplace=True)\n",
        "  vars_dis.drop(filter_discretizer,axis=1,inplace=True)\n",
        "  vars_dis.columns = filter_discretizer\n",
        "  df_dummies = pd.get_dummies(vars_dis,prefix=vars_dis.columns,prefix_sep='_',columns=vars_dis.columns)\n",
        "  df_dummies.columns = [col.replace(' ','') for col in df_dummies.columns]\n",
        "  ABT_df = pd.merge(df_numeric_scaled,df_dummies,left_index=True,right_index=True)\n",
        "  colunas_ABT = joblib.load('/content/drive/My Drive/Persona/vars_abertas')\n",
        "  for col in colunas_ABT:\n",
        "    if col not in df_dummies.columns:\n",
        "      ABT_df[col] = 0\n",
        "  dfABT_Model = ABT_df[colunas_ABT]\n",
        "  score = pd.DataFrame(clf_[x].predict_proba(dfABT_Model)[:,1], columns = ['SCORE'])\n",
        "  df1['Y_{}'.format(x)] = score.iloc[0]['SCORE']\n",
        "df1.drop(['REF'],axis=1,inplace=True)\n",
        "df1.ge(0.6).astype(int)"
      ],
      "execution_count": 151,
      "outputs": [
        {
          "output_type": "display_data",
          "data": {
            "text/html": [
              "\n",
              "        <progress\n",
              "            value='100'\n",
              "            max='100',\n",
              "            style='width: 100%'\n",
              "        >\n",
              "            100\n",
              "        </progress>\n",
              "    "
            ],
            "text/plain": [
              "<IPython.core.display.HTML object>"
            ]
          },
          "metadata": {
            "tags": []
          }
        },
        {
          "output_type": "display_data",
          "data": {
            "text/html": [
              "\n",
              "        <progress\n",
              "            value='100'\n",
              "            max='100',\n",
              "            style='width: 100%'\n",
              "        >\n",
              "            100\n",
              "        </progress>\n",
              "    "
            ],
            "text/plain": [
              "<IPython.core.display.HTML object>"
            ]
          },
          "metadata": {
            "tags": []
          }
        },
        {
          "output_type": "display_data",
          "data": {
            "text/html": [
              "\n",
              "        <progress\n",
              "            value='100'\n",
              "            max='100',\n",
              "            style='width: 100%'\n",
              "        >\n",
              "            100\n",
              "        </progress>\n",
              "    "
            ],
            "text/plain": [
              "<IPython.core.display.HTML object>"
            ]
          },
          "metadata": {
            "tags": []
          }
        },
        {
          "output_type": "display_data",
          "data": {
            "text/html": [
              "\n",
              "        <progress\n",
              "            value='100'\n",
              "            max='100',\n",
              "            style='width: 100%'\n",
              "        >\n",
              "            100\n",
              "        </progress>\n",
              "    "
            ],
            "text/plain": [
              "<IPython.core.display.HTML object>"
            ]
          },
          "metadata": {
            "tags": []
          }
        },
        {
          "output_type": "display_data",
          "data": {
            "text/html": [
              "\n",
              "        <progress\n",
              "            value='100'\n",
              "            max='100',\n",
              "            style='width: 100%'\n",
              "        >\n",
              "            100\n",
              "        </progress>\n",
              "    "
            ],
            "text/plain": [
              "<IPython.core.display.HTML object>"
            ]
          },
          "metadata": {
            "tags": []
          }
        },
        {
          "output_type": "display_data",
          "data": {
            "text/html": [
              "\n",
              "        <progress\n",
              "            value='100'\n",
              "            max='100',\n",
              "            style='width: 100%'\n",
              "        >\n",
              "            100\n",
              "        </progress>\n",
              "    "
            ],
            "text/plain": [
              "<IPython.core.display.HTML object>"
            ]
          },
          "metadata": {
            "tags": []
          }
        },
        {
          "output_type": "display_data",
          "data": {
            "text/html": [
              "\n",
              "        <progress\n",
              "            value='100'\n",
              "            max='100',\n",
              "            style='width: 100%'\n",
              "        >\n",
              "            100\n",
              "        </progress>\n",
              "    "
            ],
            "text/plain": [
              "<IPython.core.display.HTML object>"
            ]
          },
          "metadata": {
            "tags": []
          }
        },
        {
          "output_type": "display_data",
          "data": {
            "text/html": [
              "\n",
              "        <progress\n",
              "            value='100'\n",
              "            max='100',\n",
              "            style='width: 100%'\n",
              "        >\n",
              "            100\n",
              "        </progress>\n",
              "    "
            ],
            "text/plain": [
              "<IPython.core.display.HTML object>"
            ]
          },
          "metadata": {
            "tags": []
          }
        },
        {
          "output_type": "display_data",
          "data": {
            "text/html": [
              "\n",
              "        <progress\n",
              "            value='100'\n",
              "            max='100',\n",
              "            style='width: 100%'\n",
              "        >\n",
              "            100\n",
              "        </progress>\n",
              "    "
            ],
            "text/plain": [
              "<IPython.core.display.HTML object>"
            ]
          },
          "metadata": {
            "tags": []
          }
        },
        {
          "output_type": "display_data",
          "data": {
            "text/html": [
              "\n",
              "        <progress\n",
              "            value='100'\n",
              "            max='100',\n",
              "            style='width: 100%'\n",
              "        >\n",
              "            100\n",
              "        </progress>\n",
              "    "
            ],
            "text/plain": [
              "<IPython.core.display.HTML object>"
            ]
          },
          "metadata": {
            "tags": []
          }
        },
        {
          "output_type": "display_data",
          "data": {
            "text/html": [
              "\n",
              "        <progress\n",
              "            value='100'\n",
              "            max='100',\n",
              "            style='width: 100%'\n",
              "        >\n",
              "            100\n",
              "        </progress>\n",
              "    "
            ],
            "text/plain": [
              "<IPython.core.display.HTML object>"
            ]
          },
          "metadata": {
            "tags": []
          }
        },
        {
          "output_type": "display_data",
          "data": {
            "text/html": [
              "\n",
              "        <progress\n",
              "            value='100'\n",
              "            max='100',\n",
              "            style='width: 100%'\n",
              "        >\n",
              "            100\n",
              "        </progress>\n",
              "    "
            ],
            "text/plain": [
              "<IPython.core.display.HTML object>"
            ]
          },
          "metadata": {
            "tags": []
          }
        },
        {
          "output_type": "display_data",
          "data": {
            "text/html": [
              "\n",
              "        <progress\n",
              "            value='100'\n",
              "            max='100',\n",
              "            style='width: 100%'\n",
              "        >\n",
              "            100\n",
              "        </progress>\n",
              "    "
            ],
            "text/plain": [
              "<IPython.core.display.HTML object>"
            ]
          },
          "metadata": {
            "tags": []
          }
        },
        {
          "output_type": "display_data",
          "data": {
            "text/html": [
              "\n",
              "        <progress\n",
              "            value='100'\n",
              "            max='100',\n",
              "            style='width: 100%'\n",
              "        >\n",
              "            100\n",
              "        </progress>\n",
              "    "
            ],
            "text/plain": [
              "<IPython.core.display.HTML object>"
            ]
          },
          "metadata": {
            "tags": []
          }
        },
        {
          "output_type": "display_data",
          "data": {
            "text/html": [
              "\n",
              "        <progress\n",
              "            value='100'\n",
              "            max='100',\n",
              "            style='width: 100%'\n",
              "        >\n",
              "            100\n",
              "        </progress>\n",
              "    "
            ],
            "text/plain": [
              "<IPython.core.display.HTML object>"
            ]
          },
          "metadata": {
            "tags": []
          }
        },
        {
          "output_type": "display_data",
          "data": {
            "text/html": [
              "\n",
              "        <progress\n",
              "            value='100'\n",
              "            max='100',\n",
              "            style='width: 100%'\n",
              "        >\n",
              "            100\n",
              "        </progress>\n",
              "    "
            ],
            "text/plain": [
              "<IPython.core.display.HTML object>"
            ]
          },
          "metadata": {
            "tags": []
          }
        },
        {
          "output_type": "display_data",
          "data": {
            "text/html": [
              "\n",
              "        <progress\n",
              "            value='100'\n",
              "            max='100',\n",
              "            style='width: 100%'\n",
              "        >\n",
              "            100\n",
              "        </progress>\n",
              "    "
            ],
            "text/plain": [
              "<IPython.core.display.HTML object>"
            ]
          },
          "metadata": {
            "tags": []
          }
        },
        {
          "output_type": "display_data",
          "data": {
            "text/html": [
              "\n",
              "        <progress\n",
              "            value='100'\n",
              "            max='100',\n",
              "            style='width: 100%'\n",
              "        >\n",
              "            100\n",
              "        </progress>\n",
              "    "
            ],
            "text/plain": [
              "<IPython.core.display.HTML object>"
            ]
          },
          "metadata": {
            "tags": []
          }
        },
        {
          "output_type": "display_data",
          "data": {
            "text/html": [
              "\n",
              "        <progress\n",
              "            value='100'\n",
              "            max='100',\n",
              "            style='width: 100%'\n",
              "        >\n",
              "            100\n",
              "        </progress>\n",
              "    "
            ],
            "text/plain": [
              "<IPython.core.display.HTML object>"
            ]
          },
          "metadata": {
            "tags": []
          }
        },
        {
          "output_type": "display_data",
          "data": {
            "text/html": [
              "\n",
              "        <progress\n",
              "            value='100'\n",
              "            max='100',\n",
              "            style='width: 100%'\n",
              "        >\n",
              "            100\n",
              "        </progress>\n",
              "    "
            ],
            "text/plain": [
              "<IPython.core.display.HTML object>"
            ]
          },
          "metadata": {
            "tags": []
          }
        },
        {
          "output_type": "display_data",
          "data": {
            "text/html": [
              "\n",
              "        <progress\n",
              "            value='100'\n",
              "            max='100',\n",
              "            style='width: 100%'\n",
              "        >\n",
              "            100\n",
              "        </progress>\n",
              "    "
            ],
            "text/plain": [
              "<IPython.core.display.HTML object>"
            ]
          },
          "metadata": {
            "tags": []
          }
        },
        {
          "output_type": "display_data",
          "data": {
            "text/html": [
              "\n",
              "        <progress\n",
              "            value='100'\n",
              "            max='100',\n",
              "            style='width: 100%'\n",
              "        >\n",
              "            100\n",
              "        </progress>\n",
              "    "
            ],
            "text/plain": [
              "<IPython.core.display.HTML object>"
            ]
          },
          "metadata": {
            "tags": []
          }
        },
        {
          "output_type": "display_data",
          "data": {
            "text/html": [
              "\n",
              "        <progress\n",
              "            value='100'\n",
              "            max='100',\n",
              "            style='width: 100%'\n",
              "        >\n",
              "            100\n",
              "        </progress>\n",
              "    "
            ],
            "text/plain": [
              "<IPython.core.display.HTML object>"
            ]
          },
          "metadata": {
            "tags": []
          }
        },
        {
          "output_type": "display_data",
          "data": {
            "text/html": [
              "\n",
              "        <progress\n",
              "            value='100'\n",
              "            max='100',\n",
              "            style='width: 100%'\n",
              "        >\n",
              "            100\n",
              "        </progress>\n",
              "    "
            ],
            "text/plain": [
              "<IPython.core.display.HTML object>"
            ]
          },
          "metadata": {
            "tags": []
          }
        },
        {
          "output_type": "display_data",
          "data": {
            "text/html": [
              "\n",
              "        <progress\n",
              "            value='100'\n",
              "            max='100',\n",
              "            style='width: 100%'\n",
              "        >\n",
              "            100\n",
              "        </progress>\n",
              "    "
            ],
            "text/plain": [
              "<IPython.core.display.HTML object>"
            ]
          },
          "metadata": {
            "tags": []
          }
        },
        {
          "output_type": "execute_result",
          "data": {
            "text/html": [
              "<div>\n",
              "<style scoped>\n",
              "    .dataframe tbody tr th:only-of-type {\n",
              "        vertical-align: middle;\n",
              "    }\n",
              "\n",
              "    .dataframe tbody tr th {\n",
              "        vertical-align: top;\n",
              "    }\n",
              "\n",
              "    .dataframe thead th {\n",
              "        text-align: right;\n",
              "    }\n",
              "</style>\n",
              "<table border=\"1\" class=\"dataframe\">\n",
              "  <thead>\n",
              "    <tr style=\"text-align: right;\">\n",
              "      <th></th>\n",
              "      <th>Y_1</th>\n",
              "      <th>Y_2</th>\n",
              "      <th>Y_3</th>\n",
              "      <th>Y_4</th>\n",
              "      <th>Y_5</th>\n",
              "      <th>Y_6</th>\n",
              "      <th>Y_7</th>\n",
              "      <th>Y_8</th>\n",
              "      <th>Y_9</th>\n",
              "      <th>Y_10</th>\n",
              "      <th>Y_11</th>\n",
              "      <th>Y_12</th>\n",
              "      <th>Y_13</th>\n",
              "      <th>Y_14</th>\n",
              "      <th>Y_15</th>\n",
              "      <th>Y_16</th>\n",
              "      <th>Y_17</th>\n",
              "      <th>Y_18</th>\n",
              "      <th>Y_19</th>\n",
              "      <th>Y_20</th>\n",
              "      <th>Y_21</th>\n",
              "      <th>Y_22</th>\n",
              "      <th>Y_23</th>\n",
              "      <th>Y_24</th>\n",
              "      <th>Y_25</th>\n",
              "    </tr>\n",
              "  </thead>\n",
              "  <tbody>\n",
              "    <tr>\n",
              "      <th>0</th>\n",
              "      <td>1</td>\n",
              "      <td>0</td>\n",
              "      <td>1</td>\n",
              "      <td>0</td>\n",
              "      <td>1</td>\n",
              "      <td>0</td>\n",
              "      <td>1</td>\n",
              "      <td>0</td>\n",
              "      <td>0</td>\n",
              "      <td>0</td>\n",
              "      <td>0</td>\n",
              "      <td>0</td>\n",
              "      <td>1</td>\n",
              "      <td>1</td>\n",
              "      <td>1</td>\n",
              "      <td>1</td>\n",
              "      <td>0</td>\n",
              "      <td>1</td>\n",
              "      <td>0</td>\n",
              "      <td>1</td>\n",
              "      <td>1</td>\n",
              "      <td>0</td>\n",
              "      <td>1</td>\n",
              "      <td>1</td>\n",
              "      <td>1</td>\n",
              "    </tr>\n",
              "  </tbody>\n",
              "</table>\n",
              "</div>"
            ],
            "text/plain": [
              "   Y_1  Y_2  Y_3  Y_4  Y_5  Y_6  Y_7  Y_8  Y_9  Y_10  Y_11  Y_12  Y_13  Y_14  \\\n",
              "0    1    0    1    0    1    0    1    0    0     0     0     0     1     1   \n",
              "\n",
              "   Y_15  Y_16  Y_17  Y_18  Y_19  Y_20  Y_21  Y_22  Y_23  Y_24  Y_25  \n",
              "0     1     1     0     1     0     1     1     0     1     1     1  "
            ]
          },
          "metadata": {
            "tags": []
          },
          "execution_count": 151
        }
      ]
    },
    {
      "cell_type": "code",
      "metadata": {
        "id": "Y0TdnA-jJ4uc",
        "colab_type": "code",
        "colab": {}
      },
      "source": [
        ""
      ],
      "execution_count": 0,
      "outputs": []
    }
  ]
}